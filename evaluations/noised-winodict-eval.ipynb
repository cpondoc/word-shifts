{
 "cells": [
  {
   "cell_type": "markdown",
   "metadata": {},
   "source": [
    "# CS 224N Final Project - Evaluating Fine-Tuned Models on WinoDict Dataset\n",
    "By: Christopher Pondoc, Joseph Guman, and Joseph O'Brien"
   ]
  },
  {
   "cell_type": "code",
   "execution_count": 1,
   "metadata": {
    "vscode": {
     "languageId": "python"
    }
   },
   "outputs": [
    {
     "name": "stdout",
     "output_type": "stream",
     "text": [
      "Using GPU: True\n"
     ]
    }
   ],
   "source": [
    "import torch\n",
    "print(\"Using GPU: \" + str(torch.cuda.is_available()))"
   ]
  },
  {
   "cell_type": "markdown",
   "metadata": {},
   "source": [
    "## Load in Off-the-Shelf and Noised GPT-2 Model\n",
    "Using HuggingFace Transformers and Custom Noising."
   ]
  },
  {
   "cell_type": "code",
   "execution_count": 2,
   "metadata": {
    "vscode": {
     "languageId": "python"
    }
   },
   "outputs": [],
   "source": [
    "import torch\n",
    "from transformers import GPT2Tokenizer, GPT2LMHeadModel\n",
    "\n",
    "# Get tokenizer and model\n",
    "tokenizer = GPT2Tokenizer.from_pretrained(\"gpt2-medium\")\n",
    "model = GPT2LMHeadModel.from_pretrained(\"gpt2-medium\").to('cuda')\n",
    "\n",
    "# Zero out all embedding layers\n",
    "params = model.state_dict()\n",
    "for param in params:\n",
    "    params[param].requires_grad = False\n",
    "model.load_state_dict(params)\n",
    "\n",
    "# Get just the embeddings\n",
    "noised_model = GPT2LMHeadModel.from_pretrained(\"../weights/noisedInverted10\").to('cuda')\n",
    "noised_embeddings = noised_model.transformer.wte.weight.detach().clone()\n",
    "\n",
    "# Delete the model itself\n",
    "del noised_model"
   ]
  },
  {
   "cell_type": "markdown",
   "metadata": {},
   "source": [
    "## Load in WinoDict Dataset and Real-to-Fake Words\n",
    "HuggingFace + Previously Generated."
   ]
  },
  {
   "cell_type": "code",
   "execution_count": 3,
   "metadata": {
    "vscode": {
     "languageId": "python"
    }
   },
   "outputs": [],
   "source": [
    "import pandas as pd\n",
    "first_set = pd.read_csv(\"winograd-labels.csv\")"
   ]
  },
  {
   "cell_type": "markdown",
   "metadata": {},
   "source": [
    "## Evaluating on One Example\n",
    "Writing a function that is reusable and works for one example"
   ]
  },
  {
   "cell_type": "code",
   "execution_count": 4,
   "metadata": {
    "vscode": {
     "languageId": "python"
    }
   },
   "outputs": [],
   "source": [
    "def evaluate_winodict(example):\n",
    "    # First, replace the word with each of the options\n",
    "    if ('_' in example['sentence']):\n",
    "        # Change 'the' to lowercase\n",
    "        first_choice, second_choice = example['option1'], example['option2']\n",
    "        if (first_choice[:4] == \"The \"):\n",
    "            first_choice = \"the \" + first_choice[4:]\n",
    "        if (second_choice[:4] == \"The \"):\n",
    "            second_choice = \"the \" + second_choice[4:]\n",
    "    \n",
    "        # Get the fake word and replace the definition\n",
    "        example['sentence'] = example['sentence'].replace(example['fake_lemma'], example['lemma'])\n",
    "        \n",
    "        # Replace with noised embeddings\n",
    "        tokens = tokenizer(example['lemma'])['input_ids']\n",
    "        orig_embeddings = model.transformer.wte.weight[tokens,:].detach().clone()\n",
    "        model.transformer.wte.weight[tokens,:] = noised_embeddings[tokens,:].detach().clone()\n",
    "        \n",
    "        # Replace the text\n",
    "        first_text, second_text = example['sentence'], example['sentence']\n",
    "        pronoun_loc = example['sentence'].index('_')\n",
    "        first_option = first_text[:pronoun_loc] + first_choice + first_text[pronoun_loc + 1:]\n",
    "        second_option = second_text[:pronoun_loc] + second_choice + second_text[pronoun_loc + 1:]\n",
    "    \n",
    "        # Tokenize each string and produce labels\n",
    "        first_inputs, second_inputs = tokenizer(first_option, return_tensors=\"pt\").to('cuda'), tokenizer(second_option, return_tensors=\"pt\").to('cuda')\n",
    "\n",
    "        # Create the first token labels\n",
    "        first_masked_tokens = tokenizer(first_text[:pronoun_loc] + first_choice, return_tensors=\"pt\")\n",
    "        first_labels = first_masked_tokens[\"input_ids\"][0]\n",
    "        first_mask = torch.full((1, first_labels.shape[0]), -100)\n",
    "        first_fill = tokenizer(first_text[pronoun_loc + 1:], return_tensors=\"pt\")[\"input_ids\"]\n",
    "        final_first_labels = torch.cat((first_mask, first_fill), dim=1).to('cuda')\n",
    "\n",
    "        # Create the second token labels\n",
    "        second_masked_tokens = tokenizer(second_text[:pronoun_loc] + second_choice, return_tensors=\"pt\")\n",
    "        second_labels = second_masked_tokens[\"input_ids\"][0]\n",
    "        second_mask = torch.full((1, second_labels.shape[0]), -100)\n",
    "        second_fill = tokenizer(second_text[pronoun_loc + 1:], return_tensors=\"pt\")[\"input_ids\"]\n",
    "        final_second_labels = torch.cat((second_mask, second_fill), dim=1).to('cuda')\n",
    "        \n",
    "        # Evaluate the model on each example and check\n",
    "        first_loss = model(**first_inputs, labels=final_first_labels).loss\n",
    "        second_loss = model(**second_inputs, labels=final_second_labels).loss\n",
    "        \n",
    "        # Return model back to original embeddings\n",
    "        model.transformer.wte.weight[tokens,:] = orig_embeddings\n",
    "        \n",
    "        # Write down the correct value and check\n",
    "        if (first_loss < second_loss):\n",
    "            return (int(example['label']) == 0)\n",
    "        else:\n",
    "            return (int(example['label']) == 1)"
   ]
  },
  {
   "cell_type": "markdown",
   "metadata": {},
   "source": [
    "## Evaluating WinoDict on GPT-2\n",
    "Looking specifically at `WinoDict`, with the first generated examples and adding in the definition and substituting in the word."
   ]
  },
  {
   "cell_type": "code",
   "execution_count": 5,
   "metadata": {
    "vscode": {
     "languageId": "python"
    }
   },
   "outputs": [
    {
     "name": "stdout",
     "output_type": "stream",
     "text": [
      "GPT-2 Medium achieved a score of: 0.5766666666666667\n"
     ]
    }
   ],
   "source": [
    "with torch.no_grad():\n",
    "    correct, total = 0, 0\n",
    "    for index, row in first_set.iterrows():\n",
    "        if (row['lemma'] != \"lemma\"):\n",
    "            total += 1\n",
    "            correct += int(evaluate_winodict(row))\n",
    "\n",
    "    print(\"GPT-2 Medium achieved a score of: \" + str(float(correct) / float(total)))"
   ]
  },
  {
   "cell_type": "code",
   "execution_count": null,
   "metadata": {},
   "outputs": [],
   "source": []
  }
 ],
 "metadata": {
  "kernelspec": {
   "display_name": "Python (pytorch)",
   "language": "python",
   "name": "pytorch"
  },
  "language_info": {
   "codemirror_mode": {
    "name": "ipython",
    "version": 3
   },
   "file_extension": ".py",
   "mimetype": "text/x-python",
   "name": "python",
   "nbconvert_exporter": "python",
   "pygments_lexer": "ipython3",
   "version": "3.9.13"
  }
 },
 "nbformat": 4,
 "nbformat_minor": 4
}
