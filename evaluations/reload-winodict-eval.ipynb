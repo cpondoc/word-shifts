{
 "cells": [
  {
   "cell_type": "markdown",
   "metadata": {},
   "source": [
    "# CS 224N Final Project - Evaluating Reloaded Models on WinoDict Dataset\n",
    "By: Christopher Pondoc, Joseph Guman, and Joseph O'Brien"
   ]
  },
  {
   "cell_type": "code",
   "execution_count": 1,
   "metadata": {
    "vscode": {
     "languageId": "python"
    }
   },
   "outputs": [
    {
     "name": "stdout",
     "output_type": "stream",
     "text": [
      "Using GPU: True\n"
     ]
    }
   ],
   "source": [
    "import torch\n",
    "print(\"Using GPU: \" + str(torch.cuda.is_available()))"
   ]
  },
  {
   "cell_type": "markdown",
   "metadata": {},
   "source": [
    "## Load in GPT-2 Model\n",
    "Using HuggingFace Transformers"
   ]
  },
  {
   "cell_type": "code",
   "execution_count": 2,
   "metadata": {
    "vscode": {
     "languageId": "python"
    }
   },
   "outputs": [],
   "source": [
    "from transformers import GPT2LMHeadModel, GPT2Tokenizer, RobertaModel, RobertaTokenizer\n",
    "\n",
    "# G2G used to Predict\n",
    "predict_model = GPT2LMHeadModel.from_pretrained(\"../weights/G2GMaskingBest\").to(\"cuda\")\n",
    "predict_tokenizer = GPT2Tokenizer.from_pretrained(\"gpt2-medium\")\n",
    "predict_tokenizer.add_tokens(['[CLS]'])\n",
    "\n",
    "# R2G used to Predict\n",
    "#predict_model = RobertaModel.from_pretrained(\"/home/ubuntu/test/weights/wordnetCrazy\").to(\"cuda\")\n",
    "#predict_tokenizer = RobertaTokenizer.from_pretrained(\"roberta-large\")\n",
    "\n",
    "# GPT-2 Model and Tokenizer to be fine-tuned\n",
    "model = GPT2LMHeadModel.from_pretrained('gpt2-medium').to(\"cuda\")\n",
    "tokenizer = GPT2Tokenizer.from_pretrained('gpt2-medium')"
   ]
  },
  {
   "cell_type": "markdown",
   "metadata": {},
   "source": [
    "## Load in WinoDict Dataset and Real-to-Fake Words\n",
    "HuggingFace + Previously Generated."
   ]
  },
  {
   "cell_type": "code",
   "execution_count": 3,
   "metadata": {
    "vscode": {
     "languageId": "python"
    }
   },
   "outputs": [],
   "source": [
    "import pandas as pd\n",
    "\n",
    "# Load in dataset\n",
    "first_set = pd.read_csv(\"../winodict/prob1_of_5.csv\")\n",
    "\n",
    "# Import CSV and get the real to fake\n",
    "rtf_df = pd.read_csv(\"../datasets/realtofake.csv\")\n",
    "real_words_list = rtf_df[\"Real\"].tolist()\n",
    "fake_words_list = rtf_df[\"Fake\"].tolist()\n",
    "\n",
    "# Populate dictionary\n",
    "real_to_fake_dict = {}\n",
    "for i in range(len(real_words_list)):\n",
    "    real_to_fake_dict[real_words_list[i]] = fake_words_list[i]"
   ]
  },
  {
   "cell_type": "markdown",
   "metadata": {},
   "source": [
    "## Gather all WordNet Definitions\n",
    "Use all of the real words to gather all WordNet definitions that will be used."
   ]
  },
  {
   "cell_type": "code",
   "execution_count": 4,
   "metadata": {},
   "outputs": [],
   "source": [
    "from nltk.corpus import wordnet as wn\n",
    "\n",
    "# Keep track of all the final definitions\n",
    "final_definitions = []\n",
    "\n",
    "# Loop through each real word and append\n",
    "for word in real_words_list:\n",
    "    definition = \"\"\n",
    "    for synset in wn.synsets(word):\n",
    "        definition += synset.definition() + \". \"\n",
    "    final_definitions.append(definition)\n",
    "\n",
    "# Quick sanity check\n",
    "assert(len(real_words_list) == len(final_definitions))\n",
    "assert(len(fake_words_list) == len(final_definitions))"
   ]
  },
  {
   "cell_type": "markdown",
   "metadata": {},
   "source": [
    "## G2G: Batch All Embeddings\n",
    "Insert all the embeddings into the model."
   ]
  },
  {
   "cell_type": "code",
   "execution_count": 5,
   "metadata": {},
   "outputs": [],
   "source": [
    "def g2g_embeddings():\n",
    "    # Helpful Debug Message\n",
    "    print(\"Number of total definitions: \" + str(len(final_definitions)))\n",
    "\n",
    "    # Tokenizing all of the definitions at once\n",
    "    predict_tokenizer.pad_token = tokenizer.eos_token\n",
    "    tokenized_inputs = predict_tokenizer(final_definitions, return_tensors=\"pt\", padding='max_length', truncation=True, max_length=511)\n",
    "    tokenized_cls = predict_tokenizer([\" [CLS]\"] * len(final_definitions), return_tensors=\"pt\")\n",
    "    tokenized_inputs['input_ids'] = torch.cat((tokenized_inputs['input_ids'], tokenized_cls['input_ids']), dim=1).to(\"cuda\")\n",
    "    tokenized_inputs['attention_mask'] = torch.cat((tokenized_inputs['attention_mask'], tokenized_cls['attention_mask']), dim=1).to(\"cuda\")\n",
    "\n",
    "    # Add the new tokens and resize the model embeddings matrix\n",
    "    displacement = len(tokenizer)\n",
    "    tokenizer.add_tokens(fake_words_list)\n",
    "    model.resize_token_embeddings(len(tokenizer))\n",
    "    params = model.state_dict()\n",
    "\n",
    "    # Adding new embeddings in a range of 4\n",
    "    for i in range(0, len(final_definitions), 4):\n",
    "        outputs = predict_model(input_ids=tokenized_inputs['input_ids'][i:min(len(final_definitions), i + 4)], output_hidden_states=True, attention_mask=tokenized_inputs['attention_mask'][i:min(len(final_definitions), i + 4)])\n",
    "        params['transformer.wte.weight'][displacement + i: displacement + min(len(final_definitions), i + 4),:] = outputs.hidden_states[-1][:,511,:].detach().clone()\n",
    "    model.load_state_dict(params)"
   ]
  },
  {
   "cell_type": "markdown",
   "metadata": {},
   "source": [
    "## R2G: Batch All Embeddings\n",
    "Use R2G to predict word embeddings instead."
   ]
  },
  {
   "cell_type": "code",
   "execution_count": 6,
   "metadata": {},
   "outputs": [],
   "source": [
    "def r2g_embeddings():\n",
    "    # Update definitions to have the CLS token at the beginning\n",
    "    for i in range(len(final_definitions)):\n",
    "        final_definitions[i] = \"[CLS] \" + final_definitions[i]\n",
    "    \n",
    "    # Helpful Debug Message\n",
    "    print(\"Number of total definitions: \" + str(len(final_definitions)))\n",
    "\n",
    "    # Tokenizing all of the definitions at once\n",
    "    predict_tokenizer.pad_token = tokenizer.eos_token\n",
    "    tokenized_inputs = predict_tokenizer(final_definitions, return_tensors=\"pt\", padding='max_length', truncation=True, max_length=511).to('cuda')\n",
    "\n",
    "    # Add the new tokens and resize the model embeddings matrix\n",
    "    displacement = len(tokenizer)\n",
    "    tokenizer.add_tokens(fake_words_list)\n",
    "    model.resize_token_embeddings(len(tokenizer))\n",
    "    params = model.state_dict()\n",
    "\n",
    "    # Adding new embeddings in a range of 4\n",
    "    for i in range(0, len(final_definitions), 4):\n",
    "        outputs = predict_model(input_ids=tokenized_inputs['input_ids'][i:min(len(final_definitions), i + 4)], output_hidden_states=True)\n",
    "        params['transformer.wte.weight'][displacement + i: displacement + min(len(final_definitions), i + 4),:] = outputs.hidden_states[-1][:,0,:].detach().clone()\n",
    "    model.load_state_dict(params)"
   ]
  },
  {
   "cell_type": "markdown",
   "metadata": {},
   "source": [
    "## Random Initialization: Batch Add All Embeddings\n",
    "Create updated embeddings for GPT-2 using Hewitt random initialization."
   ]
  },
  {
   "cell_type": "code",
   "execution_count": 7,
   "metadata": {},
   "outputs": [],
   "source": [
    "def random_embeddings():    \n",
    "    # Helpful Debug Message\n",
    "    print(\"Number of total definitions: \" + str(len(final_definitions)))\n",
    "    \n",
    "    # Use Hewitt code to get embeddings that are average of all other embeddings\n",
    "    params = model.state_dict()\n",
    "    embeddings = params['transformer.wte.weight']\n",
    "    mu = torch.mean(embeddings, dim=0)\n",
    "    n = embeddings.size()[0]\n",
    "    sigma = ((embeddings - mu).T @ (embeddings - mu)) / n\n",
    "    dist = torch.distributions.multivariate_normal.MultivariateNormal(\n",
    "            mu, covariance_matrix=1e-5*sigma)\n",
    "    \n",
    "    # Generate new embeddings, add new tokens, and resize the model embeddings matrix\n",
    "    displacement = len(tokenizer)\n",
    "    tokenizer.add_tokens(fake_words_list)\n",
    "    model.resize_token_embeddings(len(tokenizer))\n",
    "    params = model.state_dict()\n",
    "    \n",
    "    # Adding new embeddings in a range of 4\n",
    "    new_embeddings = torch.stack(tuple((dist.sample() for _ in range(len(final_definitions)))), dim=0)\n",
    "    params['transformer.wte.weight'][displacement:, :] = new_embeddings\n",
    "    model.load_state_dict(params)"
   ]
  },
  {
   "cell_type": "markdown",
   "metadata": {},
   "source": [
    "## Evaluating on One Example\n",
    "Writing a function that is reusable and works for one example"
   ]
  },
  {
   "cell_type": "code",
   "execution_count": 8,
   "metadata": {
    "vscode": {
     "languageId": "python"
    }
   },
   "outputs": [],
   "source": [
    "def evaluate_winodict(example):\n",
    "    # First, replace the word with each of the options\n",
    "    if ('_' in example['sentence']):\n",
    "        # Change 'the' to lowercase\n",
    "        first_choice, second_choice = example['option1'], example['option2']\n",
    "        if (first_choice[:4] == \"The \"):\n",
    "            first_choice = \"the \" + first_choice[4:]\n",
    "        if (second_choice[:4] == \"The \"):\n",
    "            second_choice = \"the \" + second_choice[4:]\n",
    "    \n",
    "        # Get the fake word and replace the definition\n",
    "        fake_word = real_to_fake_dict[example['lemma']]\n",
    "        example['definition'] = example['definition'].replace(example['fake_lemma'], fake_word)\n",
    "        example['sentence'] = example['sentence'].replace(example['fake_lemma'], fake_word)\n",
    "        \n",
    "        # Replace the text\n",
    "        first_text, second_text = example['sentence'], example['sentence']\n",
    "        pronoun_loc = example['sentence'].index('_')\n",
    "        first_option = example['definition'] + \" \" + first_text[:pronoun_loc] + first_choice + first_text[pronoun_loc + 1:]\n",
    "        second_option = example['definition'] + \" \" + second_text[:pronoun_loc] + second_choice + second_text[pronoun_loc + 1:]\n",
    "    \n",
    "        # Tokenize each string and produce labels\n",
    "        first_inputs, second_inputs = tokenizer(first_option, return_tensors=\"pt\").to('cuda'), tokenizer(second_option, return_tensors=\"pt\").to('cuda')\n",
    "\n",
    "        # Create the first token labels\n",
    "        first_masked_tokens = tokenizer(example['definition'] + \" \" + first_text[:pronoun_loc] + first_choice, return_tensors=\"pt\")\n",
    "        first_labels = first_masked_tokens[\"input_ids\"][0]\n",
    "        first_mask = torch.full((1, first_labels.shape[0]), -100)\n",
    "        first_fill = tokenizer(first_text[pronoun_loc + 1:], return_tensors=\"pt\")[\"input_ids\"]\n",
    "        final_first_labels = torch.cat((first_mask, first_fill), dim=1).to('cuda')\n",
    "\n",
    "        # Create the second token labels\n",
    "        second_masked_tokens = tokenizer(example['definition'] + \" \" + second_text[:pronoun_loc] + second_choice, return_tensors=\"pt\")\n",
    "        second_labels = second_masked_tokens[\"input_ids\"][0]\n",
    "        second_mask = torch.full((1, second_labels.shape[0]), -100)\n",
    "        second_fill = tokenizer(second_text[pronoun_loc + 1:], return_tensors=\"pt\")[\"input_ids\"]\n",
    "        final_second_labels = torch.cat((second_mask, second_fill), dim=1).to('cuda')\n",
    "        \n",
    "        # Evaluate the model on each example and check\n",
    "        first_loss = model(**first_inputs, labels=final_first_labels).loss\n",
    "        second_loss = model(**second_inputs, labels=final_second_labels).loss\n",
    "        \n",
    "        # Write down the correct value and check\n",
    "        if (first_loss < second_loss):\n",
    "            return (int(example['label']) == 0)\n",
    "        else:\n",
    "            return (int(example['label']) == 1)"
   ]
  },
  {
   "cell_type": "markdown",
   "metadata": {},
   "source": [
    "## Evaluating WinoDict on GPT-2\n",
    "Looking specifically at `WinoDict`, with the first generated examples and adding in the definition and substituting in the word."
   ]
  },
  {
   "cell_type": "code",
   "execution_count": 9,
   "metadata": {
    "vscode": {
     "languageId": "python"
    }
   },
   "outputs": [
    {
     "name": "stdout",
     "output_type": "stream",
     "text": [
      "Number of total definitions: 343\n",
      "GPT-2 Medium achieved a score of: 0.4678714859437751\n"
     ]
    }
   ],
   "source": [
    "# Define all the new model embeddings\n",
    "g2g_embeddings()\n",
    "\n",
    "# Calculate statistics\n",
    "correct, total = 0, 0\n",
    "for index, row in first_set.iterrows():\n",
    "    if (row['lemma'] != \"lemma\"):\n",
    "        total += 1\n",
    "        correct += int(evaluate_winodict(row))\n",
    "    \n",
    "print(\"GPT-2 Medium achieved a score of: \" + str(float(correct) / float(total)))"
   ]
  },
  {
   "cell_type": "code",
   "execution_count": null,
   "metadata": {},
   "outputs": [],
   "source": []
  }
 ],
 "metadata": {
  "kernelspec": {
   "display_name": "Python (pytorch)",
   "language": "python",
   "name": "pytorch"
  },
  "language_info": {
   "codemirror_mode": {
    "name": "ipython",
    "version": 3
   },
   "file_extension": ".py",
   "mimetype": "text/x-python",
   "name": "python",
   "nbconvert_exporter": "python",
   "pygments_lexer": "ipython3",
   "version": "3.9.13"
  }
 },
 "nbformat": 4,
 "nbformat_minor": 4
}
