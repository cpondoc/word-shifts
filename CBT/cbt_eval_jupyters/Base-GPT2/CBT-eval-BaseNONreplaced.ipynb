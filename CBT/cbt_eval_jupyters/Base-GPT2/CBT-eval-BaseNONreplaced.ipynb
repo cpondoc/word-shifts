{
 "cells": [
  {
   "cell_type": "markdown",
   "metadata": {},
   "source": [
    "# CS 224N Final Project - Evaluating on CBT Dataset\n",
    "By: Joseph O'Brien, Christopher Pondoc, Joseph Guman"
   ]
  },
  {
   "cell_type": "code",
   "execution_count": 1,
   "metadata": {
    "vscode": {
     "languageId": "python"
    }
   },
   "outputs": [
    {
     "name": "stdout",
     "output_type": "stream",
     "text": [
      "Using GPU: True\n"
     ]
    }
   ],
   "source": [
    "import torch\n",
    "print(\"Using GPU: \" + str(torch.cuda.is_available()))"
   ]
  },
  {
   "cell_type": "markdown",
   "metadata": {},
   "source": [
    "## Load in GPT-2 Model\n",
    "Using HuggingFace Transformers"
   ]
  },
  {
   "cell_type": "code",
   "execution_count": 2,
   "metadata": {
    "vscode": {
     "languageId": "python"
    }
   },
   "outputs": [],
   "source": [
    "from transformers import AutoTokenizer, GPT2LMHeadModel\n",
    "tokenizer = AutoTokenizer.from_pretrained(\"gpt2-medium\")\n",
    "model = GPT2LMHeadModel.from_pretrained(\"gpt2-medium\").to(\"cuda\")"
   ]
  },
  {
   "cell_type": "markdown",
   "metadata": {},
   "source": [
    "## Load in WinoDict Dataset and Make dictionary of real words and corresponding fake words"
   ]
  },
  {
   "cell_type": "code",
   "execution_count": 3,
   "metadata": {
    "vscode": {
     "languageId": "python"
    }
   },
   "outputs": [],
   "source": [
    "import pandas as pd\n",
    "\n",
    "# Import CSV and get the real to fake\n",
    "rtf_df = pd.read_csv(\"datasets/realtofake.csv\")\n",
    "real_words_list = rtf_df[\"Real\"].tolist()\n",
    "fake_words_list = rtf_df[\"Fake\"].tolist()\n",
    "\n",
    "# Populate dictionary\n",
    "real_to_fake_dict = {}\n",
    "for i in range(len(real_words_list)):\n",
    "    real_to_fake_dict[real_words_list[i]] = fake_words_list[i]"
   ]
  },
  {
   "cell_type": "markdown",
   "metadata": {},
   "source": [
    "## Load in Children's Book Test Dataset\n",
    "Also taken from HuggingFace"
   ]
  },
  {
   "cell_type": "code",
   "execution_count": 4,
   "metadata": {
    "vscode": {
     "languageId": "python"
    }
   },
   "outputs": [],
   "source": [
    "import pandas\n",
    "cbt_df = pd.read_csv(\"updated_cbt_extract/updated_cbt_info.csv\")"
   ]
  },
  {
   "cell_type": "markdown",
   "metadata": {},
   "source": [
    "## Evaluating on One Example\n",
    "Writing a function that is reusable and works for one example"
   ]
  },
  {
   "cell_type": "code",
   "execution_count": 9,
   "metadata": {
    "vscode": {
     "languageId": "python"
    }
   },
   "outputs": [],
   "source": [
    "def evaluate_cbt(example):\n",
    "    # extract the sentence\n",
    "    sentence = example[\"sentences\"]\n",
    "    sentence = sentence.replace('\"','')\n",
    "    sentence = sentence.replace(\"\\n\",\"\")\n",
    "    sentence = sentence[1:len(sentence)-1]\n",
    "\n",
    "    # extract the question\n",
    "    question = example[\"question\"]\n",
    "\n",
    "    # make the total query with the sentence and the question\n",
    "    total_query = sentence + \" \" + question\n",
    "\n",
    "    \n",
    "    #replace words in example with winodict fake words (currently, we replace all possible identified examples)\n",
    "    replace_words = example[\"winodict_words\"]\n",
    "    replace_words = replace_words[1:len(replace_words)-1].replace(\"'\",\"\").split(\",\")\n",
    "\n",
    "    for word in replace_words:\n",
    "        word = word.strip()\n",
    "        word = \" \"+word+\" \"\n",
    "        while word in total_query:\n",
    "            total_query = total_query.replace(word,\" \"+real_to_fake_dict[word.strip()]+\" \")\n",
    "    \n",
    "\n",
    "    # get the answer options for the model into a list\n",
    "    options = example[\"options\"].replace(\"'\",\"\")\n",
    "    options = options.replace(\"\\n\",\"\")\n",
    "    options = options[1:len(options)-1].split(\" \")\n",
    "\n",
    "    # get the answer to the problem\n",
    "    answer = example[\"answer\"]\n",
    "\n",
    "    \n",
    "    if answer in replace_words:\n",
    "        answer = real_to_fake_dict[answer][0]\n",
    "    \n",
    "    \n",
    "\n",
    "    # initialize best answer and best loss (will be lowest value)\n",
    "    best_answer = \"\"\n",
    "    best_loss = float(\"inf\")\n",
    "\n",
    "    # compute the loss for each option (using full scoring)\n",
    "    for option in options:\n",
    "        \n",
    "        if option in replace_words:\n",
    "            option = real_to_fake_dict[option][0]\n",
    "        \n",
    "\n",
    "        updated_query = total_query.replace(\"XXXXX\", option)\n",
    "        \n",
    "        # Tokenize each string and produce labels\n",
    "        updated_input = tokenizer(updated_query, return_tensors=\"pt\").to(\"cuda\")\n",
    "        #print(updated_input)\n",
    "        print(len(updated_input[0]))\n",
    "\n",
    "        if len(updated_input[0]) > 1024:\n",
    "            return -1\n",
    "\n",
    "        current_loss = model(**updated_input, labels=updated_input[\"input_ids\"].to(\"cuda\")).loss\n",
    "        \n",
    "        if current_loss < best_loss:\n",
    "            best_answer = option\n",
    "            best_loss = current_loss\n",
    "    return best_answer == answer \n",
    "\n"
   ]
  },
  {
   "cell_type": "markdown",
   "metadata": {},
   "source": [
    "## Evaluating CBT on GPT-2"
   ]
  },
  {
   "cell_type": "code",
   "execution_count": 10,
   "metadata": {
    "vscode": {
     "languageId": "python"
    }
   },
   "outputs": [
    {
     "name": "stdout",
     "output_type": "stream",
     "text": [
      "0\n",
      "Encoding(num_tokens=760, attributes=[ids, type_ids, tokens, offsets, attention_mask, special_tokens_mask, overflowing])\n",
      "Encoding(num_tokens=760, attributes=[ids, type_ids, tokens, offsets, attention_mask, special_tokens_mask, overflowing])\n",
      "Encoding(num_tokens=759, attributes=[ids, type_ids, tokens, offsets, attention_mask, special_tokens_mask, overflowing])\n",
      "Encoding(num_tokens=759, attributes=[ids, type_ids, tokens, offsets, attention_mask, special_tokens_mask, overflowing])\n",
      "Encoding(num_tokens=759, attributes=[ids, type_ids, tokens, offsets, attention_mask, special_tokens_mask, overflowing])\n",
      "Encoding(num_tokens=761, attributes=[ids, type_ids, tokens, offsets, attention_mask, special_tokens_mask, overflowing])\n",
      "Encoding(num_tokens=759, attributes=[ids, type_ids, tokens, offsets, attention_mask, special_tokens_mask, overflowing])\n",
      "Encoding(num_tokens=759, attributes=[ids, type_ids, tokens, offsets, attention_mask, special_tokens_mask, overflowing])\n",
      "Encoding(num_tokens=759, attributes=[ids, type_ids, tokens, offsets, attention_mask, special_tokens_mask, overflowing])\n",
      "Encoding(num_tokens=759, attributes=[ids, type_ids, tokens, offsets, attention_mask, special_tokens_mask, overflowing])\n",
      "\n",
      "Number correct:  0\n",
      "Total:  1\n",
      "Correct percentage:  0.0\n"
     ]
    },
    {
     "data": {
      "text/plain": [
       "'\\nwith open(\"cbt_eval_info/NONreplaced_standardgpt2_statistics\", \"w\") as file3:\\n    file3.write(information_list)\\n'"
      ]
     },
     "execution_count": 10,
     "metadata": {},
     "output_type": "execute_result"
    }
   ],
   "source": [
    "# evaluating gpt-2 WITHOUT REPLACING words and saving indices and stats\n",
    "\n",
    "correct_replaced_list = []\n",
    "total_replaced_list = []\n",
    "\n",
    "correct = 0 \n",
    "total = 0 \n",
    "for index, row in cbt_df.iterrows():\n",
    "    print(index)\n",
    "\n",
    "    update = evaluate_cbt(row)\n",
    "    if update == -1:\n",
    "        continue\n",
    "    if update == 1:\n",
    "        correct_replaced_list.append(index)\n",
    "    total_replaced_list.append(index)\n",
    "    correct += update\n",
    "    total += 1\n",
    "    break\n",
    "\n",
    "correct_replaced_list = str(correct_replaced_list)\n",
    "total_replaced_list = str(total_replaced_list)\n",
    "\n",
    "\"\"\"\n",
    "with open(\"cbt_eval_info/NONreplaced_standardgpt2_correct\", \"w\") as file1:\n",
    "    file1.write(correct_replaced_list)\n",
    "\n",
    "with open(\"cbt_eval_info/NONreplaced_standardgpt2_total\", \"w\") as file2:\n",
    "    file2.write(total_replaced_list)\n",
    "\"\"\"\n",
    "\n",
    "print(\"\")\n",
    "print(\"Number correct: \", correct)\n",
    "print(\"Total: \", total)\n",
    "print(\"Correct percentage: \",correct/total)\n",
    "\n",
    "information_list = str([correct, total, correct/total])\n",
    "\n",
    "\"\"\"\n",
    "with open(\"cbt_eval_info/NONreplaced_standardgpt2_statistics\", \"w\") as file3:\n",
    "    file3.write(information_list)\n",
    "\"\"\"\n",
    "\n"
   ]
  },
  {
   "cell_type": "code",
   "execution_count": 6,
   "metadata": {
    "vscode": {
     "languageId": "python"
    }
   },
   "outputs": [
    {
     "name": "stdout",
     "output_type": "stream",
     "text": [
      "0\n",
      "1\n",
      "2\n",
      "3\n"
     ]
    },
    {
     "name": "stderr",
     "output_type": "stream",
     "text": [
      "Token indices sequence length is longer than the specified maximum sequence length for this model (1055 > 1024). Running this sequence through the model will result in indexing errors\n"
     ]
    },
    {
     "name": "stdout",
     "output_type": "stream",
     "text": [
      "4\n",
      "5\n",
      "6\n",
      "7\n",
      "8\n",
      "9\n",
      "10\n",
      "11\n",
      "12\n",
      "13\n",
      "14\n",
      "15\n",
      "16\n",
      "17\n",
      "18\n",
      "19\n",
      "20\n",
      "21\n",
      "22\n",
      "23\n",
      "24\n",
      "25\n",
      "26\n",
      "27\n",
      "28\n",
      "29\n",
      "30\n",
      "31\n",
      "32\n",
      "33\n",
      "34\n",
      "35\n",
      "36\n",
      "37\n",
      "38\n",
      "39\n",
      "40\n",
      "41\n",
      "42\n",
      "43\n",
      "44\n",
      "45\n",
      "46\n",
      "47\n",
      "48\n",
      "49\n",
      "50\n",
      "51\n",
      "52\n",
      "53\n",
      "54\n",
      "55\n",
      "56\n",
      "57\n",
      "58\n",
      "59\n",
      "60\n",
      "61\n",
      "62\n",
      "63\n",
      "64\n",
      "65\n",
      "66\n",
      "67\n",
      "68\n",
      "69\n",
      "70\n",
      "71\n",
      "72\n",
      "73\n",
      "74\n",
      "75\n",
      "76\n",
      "77\n",
      "78\n",
      "79\n",
      "80\n",
      "81\n",
      "82\n",
      "83\n",
      "84\n",
      "85\n",
      "86\n",
      "87\n",
      "88\n",
      "89\n",
      "90\n",
      "91\n",
      "92\n",
      "93\n",
      "94\n",
      "95\n",
      "96\n",
      "97\n",
      "98\n",
      "99\n",
      "100\n",
      "101\n",
      "102\n",
      "103\n",
      "104\n",
      "105\n",
      "106\n",
      "107\n",
      "108\n",
      "109\n",
      "110\n",
      "111\n",
      "112\n",
      "113\n",
      "114\n",
      "115\n",
      "116\n",
      "117\n",
      "118\n",
      "119\n",
      "120\n",
      "121\n",
      "122\n",
      "123\n",
      "124\n",
      "125\n",
      "126\n",
      "127\n",
      "128\n",
      "129\n",
      "130\n",
      "131\n",
      "132\n",
      "133\n",
      "134\n",
      "135\n",
      "136\n",
      "137\n",
      "138\n",
      "139\n",
      "140\n",
      "141\n",
      "142\n",
      "143\n",
      "144\n",
      "145\n",
      "146\n",
      "147\n",
      "148\n",
      "149\n",
      "150\n",
      "151\n",
      "152\n"
     ]
    }
   ],
   "source": [
    "# evaluating gpt-2 AFTER REPLACING words and saving indices and stats\n",
    "\n",
    "\"\"\"\n",
    "with open(\"cbt_eval_info/NONreplaced_standardgpt2_correct\", \"r\") as f:\n",
    "    correct_indices = f.read()\n",
    "\n",
    "correct_indices = correct_indices[1:len(correct_indices)-1].split(\", \")\n",
    "for i in range(len(correct_indices)):\n",
    "    correct_indices[i] = int(correct_indices[i])\n",
    "\"\"\"\n",
    "\n",
    "correct_replaced_list = []\n",
    "total_replaced_list = []\n",
    "\n",
    "correct = 0 \n",
    "total = 0 \n",
    "for index, row in cbt_df.iterrows():\n",
    "    print(index)\n",
    "\n",
    "    update = evaluate_cbt(row)\n",
    "    if update == -1:\n",
    "        continue\n",
    "    if update == 1:\n",
    "        correct_replaced_list.append(index)\n",
    "    total_replaced_list.append(index)\n",
    "    correct += update\n",
    "    total += 1\n",
    "\n",
    "return \n",
    "correct_replaced_list = str(correct_replaced_list)\n",
    "total_replaced_list = str(total_replaced_list)\n",
    "\n",
    "\"\"\"\n",
    "with open(\"cbt_eval_info/REPLACED_standardgpt2_correct\", \"w\") as file1:\n",
    "    file1.write(correct_replaced_list)\n",
    "\n",
    "with open(\"cbt_eval_info/REPLACED_standardgpt2_total\", \"w\") as file2:\n",
    "    file2.write(total_replaced_list)\n",
    "\"\"\"\n",
    "\n",
    "print(\"\")\n",
    "print(\"Number correct: \", correct)\n",
    "print(\"Total: \", total)\n",
    "print(\"Correct percentage: \",correct/total)\n",
    "\n",
    "information_list = str([correct, total, correct/total])\n",
    "\n",
    "\"\"\"\n",
    "with open(\"cbt_eval_info/REPLACED_standardgpt2_statistics\", \"w\") as file3:\n",
    "    file3.write(information_list)\n",
    "\"\"\""
   ]
  },
  {
   "cell_type": "markdown",
   "metadata": {},
   "source": [
    "## Making the Adversarial Dataset"
   ]
  },
  {
   "cell_type": "code",
   "execution_count": 4,
   "metadata": {
    "vscode": {
     "languageId": "python"
    }
   },
   "outputs": [
    {
     "name": "stdout",
     "output_type": "stream",
     "text": [
      "930\n"
     ]
    }
   ],
   "source": [
    "with open(\"cbt_eval_info/REPLACED_standardgpt2_correct\", \"r\") as f:\n",
    "    replaced_correct_indices = f.read()\n",
    "replaced_correct_indices = replaced_correct_indices[1:len(replaced_correct_indices)-1].split(\", \")\n",
    "for i in range(len(replaced_correct_indices)):\n",
    "    replaced_correct_indices[i] = int(replaced_correct_indices[i])\n",
    "\n",
    "with open(\"cbt_eval_info/NONreplaced_standardgpt2_correct\", \"r\") as f:\n",
    "    nonreplaced_correct_indices = f.read()\n",
    "nonreplaced_correct_indices = nonreplaced_correct_indices[1:len(nonreplaced_correct_indices)-1].split(\", \")\n",
    "for i in range(len(nonreplaced_correct_indices)):\n",
    "    nonreplaced_correct_indices[i] = int(nonreplaced_correct_indices[i])\n",
    "\n",
    "\n",
    "with open(\"cbt_eval_info/REPLACED_standardgpt2_total\", \"r\") as f:\n",
    "    replaced_total_indices = f.read()\n",
    "replaced_total_indices = replaced_total_indices[1:len(replaced_total_indices)-1].split(\", \")\n",
    "for i in range(len(replaced_total_indices)):\n",
    "    replaced_total_indices[i] = int(replaced_total_indices[i])\n",
    "\n",
    "with open(\"cbt_eval_info/NONreplaced_standardgpt2_total\", \"r\") as f:\n",
    "    nonreplaced_total_indices = f.read()\n",
    "nonreplaced_total_indices = nonreplaced_total_indices[1:len(nonreplaced_total_indices)-1].split(\", \")\n",
    "for i in range(len(nonreplaced_total_indices)):\n",
    "    nonreplaced_total_indices[i] = int(nonreplaced_total_indices[i])\n",
    "\n",
    "\n",
    "\n",
    "adversarial_list = []\n",
    "\n",
    "for index in nonreplaced_correct_indices:\n",
    "    #make sure that both analyzed this example\n",
    "    if index not in replaced_total_indices:\n",
    "        continue\n",
    "    if index not in replaced_correct_indices:\n",
    "        adversarial_list.append(index)\n",
    "\n",
    "print(len(adversarial_list))\n",
    "\n",
    "with open(\"cbt_eval_info/ADVERSARIAL_indices\", \"w\") as f:\n",
    "    f.write(str(adversarial_list))\n"
   ]
  }
 ],
 "metadata": {
  "kernelspec": {
   "display_name": "Python (pytorch)",
   "language": "python",
   "name": "pytorch"
  },
  "orig_nbformat": 4
 },
 "nbformat": 4,
 "nbformat_minor": 2
}
