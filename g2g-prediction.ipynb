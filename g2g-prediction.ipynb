{
 "cells": [
  {
   "cell_type": "markdown",
   "id": "5b85fe7b-cd51-4a14-8079-2a6146d72adf",
   "metadata": {},
   "source": [
    "# CS 224N - Training LLMs to Predict Word Embeddings\n",
    "Using RoBERTa and GPT-2 to predict word embeddings."
   ]
  },
  {
   "cell_type": "markdown",
   "id": "02be948f-5392-44a7-b250-597527e3f474",
   "metadata": {},
   "source": [
    "## Setting up PyTorch\n",
    "Using PyTorch on the GPU"
   ]
  },
  {
   "cell_type": "code",
   "execution_count": 1,
   "id": "8b013644-fe9c-4c94-bc13-4d28c4a6c617",
   "metadata": {},
   "outputs": [
    {
     "name": "stdout",
     "output_type": "stream",
     "text": [
      "Using GPU: True\n"
     ]
    }
   ],
   "source": [
    "import torch\n",
    "print(\"Using GPU: \" + str(torch.cuda.is_available()))\n",
    "from torch.utils.data import Dataset, DataLoader"
   ]
  },
  {
   "cell_type": "markdown",
   "id": "2c21809b-a2f7-4c40-8a69-69683a08f207",
   "metadata": {},
   "source": [
    "## Grab GPT-2 and Word Embeddings\n",
    "Look at word embeddings GPT-2 has processed"
   ]
  },
  {
   "cell_type": "code",
   "execution_count": 2,
   "id": "4427bc2a-0605-42b2-9b15-5d46dc31753e",
   "metadata": {},
   "outputs": [],
   "source": [
    "from transformers import GPT2LMHeadModel, GPT2Tokenizer\n",
    "\n",
    "model = GPT2LMHeadModel.from_pretrained('gpt2-medium').to(\"cuda\")\n",
    "tokenizer = GPT2Tokenizer.from_pretrained('gpt2-medium')\n",
    "word_embeddings = model.transformer.wte.weight"
   ]
  },
  {
   "cell_type": "markdown",
   "id": "f31d3e0e-26f1-45fd-bd87-e8ec07ec4dec",
   "metadata": {},
   "source": [
    "## Import WinoDict Dataset\n",
    "Used so that we don't have the overlapping definitions from the test set."
   ]
  },
  {
   "cell_type": "code",
   "execution_count": 3,
   "id": "f506bf97-22e6-4e7d-9339-6c6f814551e4",
   "metadata": {},
   "outputs": [],
   "source": [
    "import pandas as pd\n",
    "first_set = pd.read_csv(\"winodict/prob1_of_5.csv\")\n",
    "winodict_words = first_set['lemma'].tolist()"
   ]
  },
  {
   "cell_type": "markdown",
   "id": "4833656e-79c6-4e54-b78c-10c7c114d353",
   "metadata": {},
   "source": [
    "## Look at WordNet Definitions and Words\n",
    "Using online package `wn`."
   ]
  },
  {
   "cell_type": "code",
   "execution_count": 4,
   "id": "6e693144-f493-407f-8bc3-c713d088e409",
   "metadata": {},
   "outputs": [],
   "source": [
    "from nltk.corpus import wordnet as wn\n",
    "\n",
    "def create_wordnet_dataset():\n",
    "    words, embeddings, definitions = [], [], []\n",
    "\n",
    "    for ss in wn.all_synsets():\n",
    "        for lemma in ss.lemmas():\n",
    "            word = lemma.name()\n",
    "            if (word is not None and word in winodict_words):\n",
    "                tokens = tokenizer.encode(word,add_prefix_space=True)\n",
    "                if (len(tokens) == 1):\n",
    "                    words.append(word)\n",
    "                    definitions.append(ss.definition())\n",
    "                    embeddings.append(word_embeddings[tokens,:])\n",
    "    return words, embeddings, definitions"
   ]
  },
  {
   "cell_type": "markdown",
   "id": "3e75456b-bbfb-4fd3-a1d3-25bf3af07a17",
   "metadata": {},
   "source": [
    "## Separate Saving\n",
    "Separate work to save everything."
   ]
  },
  {
   "cell_type": "code",
   "execution_count": 5,
   "id": "115b0196-a91a-4328-82fb-0e7d8abaf7c0",
   "metadata": {},
   "outputs": [],
   "source": [
    "words, embeddings, definitions = create_wordnet_dataset()\n",
    "words = list(set(words))\n",
    "with open(\"datasets/wordnet.txt\", \"w\") as txt_file:\n",
    "    for word in words:\n",
    "        txt_file.write(word + \"\\n\")"
   ]
  },
  {
   "cell_type": "markdown",
   "id": "cbe0f1ac",
   "metadata": {},
   "source": [
    "## Shuffle Dataset\n",
    "Randomize order of words and definitions + embeddings."
   ]
  },
  {
   "cell_type": "code",
   "execution_count": 6,
   "id": "0b6f6666",
   "metadata": {},
   "outputs": [],
   "source": [
    "import random\n",
    "\n",
    "def shuffle_dataset(final_words, final_embeddings, final_definitions):\n",
    "    c = list(zip(final_words, final_definitions, final_embeddings))\n",
    "    random.shuffle(c)\n",
    "    final_words, final_definitions, final_embeddings = zip(*c)\n",
    "    return final_words, final_embeddings, final_definitions"
   ]
  },
  {
   "cell_type": "markdown",
   "id": "eca3ea5a-92e8-4680-8076-f060db50a287",
   "metadata": {},
   "source": [
    "## Create the Custom Dataset\n",
    "Helpful for extracting embeddings and definitions"
   ]
  },
  {
   "cell_type": "code",
   "execution_count": 7,
   "id": "986b1d31",
   "metadata": {},
   "outputs": [],
   "source": [
    "class DefinitionAndEmbeddings(Dataset):\n",
    "\n",
    "    def __init__(self, final_words, final_embeddings, final_definitions, tokenizer, model_len):\n",
    "        self.words = final_words\n",
    "\n",
    "        self.inputs = tokenizer(final_definitions, return_tensors = \"pt\", padding = \"max_length\",\n",
    "                                          max_length = model_len - 1)\n",
    "        self.tokenized_cls = tokenizer([\" [CLS]\"] * len(final_definitions), return_tensors = \"pt\")\n",
    "\n",
    "        self.inputs[\"input_ids\"] = torch.cat((self.inputs[\"input_ids\"], self.tokenized_cls[\"input_ids\"]), dim = 1).to(\"cuda\")\n",
    "        self.inputs[\"attention_mask\"] = torch.cat((self.inputs[\"attention_mask\"], self.tokenized_cls[\"attention_mask\"]),dim = 1).to(\"cuda\")\n",
    "        self.labels = final_embeddings\n",
    "\n",
    "    def __len__(self):\n",
    "        return len(self.words)\n",
    "\n",
    "    def __getitem__(self, idx):\n",
    "        return {\n",
    "            \"input_ids\": self.inputs[\"input_ids\"][idx],\n",
    "            \"attention_mask\": self.inputs[\"attention_mask\"][idx],\n",
    "            \"label\": self.labels[idx][0],\n",
    "            #temporary solution where we are storing the labels as a list of unsqueezed torch tensors\n",
    "            \"word\": self.words[idx]\n",
    "        }\n"
   ]
  },
  {
   "cell_type": "markdown",
   "id": "f5c8f196-2f6b-496a-8fc0-a481c43b564e",
   "metadata": {},
   "source": [
    "## Add an Initial `CLS` Embedding\n",
    "Per John Hewitt's blog post."
   ]
  },
  {
   "cell_type": "code",
   "execution_count": 8,
   "id": "e925e7be-9c17-4102-a04d-df0605c88b2b",
   "metadata": {},
   "outputs": [],
   "source": [
    "def add_initial_cls(tokenizer, model):\n",
    "    # Add CLS token\n",
    "    tokenizer.add_tokens(['[CLS]'])\n",
    "    model.resize_token_embeddings(len(tokenizer))\n",
    "    \n",
    "    # Get all the pre-expansion embeddings\n",
    "    params = model.state_dict()\n",
    "    embeddings = params['transformer.wte.weight']\n",
    "    pre_expansion_embeddings = embeddings[:-1,:]\n",
    "    \n",
    "    # Calculate mean, sigma, n\n",
    "    mu = torch.mean(pre_expansion_embeddings, dim=0)\n",
    "    n = pre_expansion_embeddings.size()[0]\n",
    "    sigma = ((pre_expansion_embeddings - mu).T @ (pre_expansion_embeddings - mu)) / n\n",
    "    \n",
    "    # Calculate the distribution\n",
    "    dist = torch.distributions.multivariate_normal.MultivariateNormal(\n",
    "            mu, covariance_matrix=1e-5*sigma)\n",
    "    \n",
    "    # Load in the new embedding for the CLS token\n",
    "    new_embeddings = torch.stack(tuple((dist.sample() for _ in range(1))), dim=0)\n",
    "    embeddings[-1:,:] = new_embeddings\n",
    "    params['transformer.wte.weight'][-1:,:] = new_embeddings\n",
    "    model.load_state_dict(params)"
   ]
  },
  {
   "cell_type": "markdown",
   "id": "46101dc6-3668-4b35-86c6-0e3fae7166e3",
   "metadata": {},
   "source": [
    "## Construct Train and Test Datasets\n",
    "Call from above to generate from either WordNet or WordSet."
   ]
  },
  {
   "cell_type": "code",
   "execution_count": 9,
   "id": "9f2b5a91",
   "metadata": {},
   "outputs": [],
   "source": [
    "# Create the stuff from existing functions\n",
    "final_words, final_embeddings, final_definitions = create_wordnet_dataset()\n",
    "final_words, final_embeddings, final_definitions = shuffle_dataset(final_words, final_embeddings, final_definitions)\n",
    "\n",
    "# Create the new tokenizer (GPT-2 specific)\n",
    "tokenizer.pad_token = tokenizer.eos_token\n",
    "add_initial_cls(tokenizer, model)\n",
    "\n",
    "train_words = final_words[:int(0.9 * len(final_words))]\n",
    "train_definitions = final_definitions[:int(0.9 * len(final_definitions))]\n",
    "train_embeddings = final_embeddings[:int(0.9 * len(final_embeddings))]\n",
    "\n",
    "#Note we are temporarily hardcoding the size\n",
    "train_dataset = DefinitionAndEmbeddings(train_words, train_embeddings, train_definitions, tokenizer, 512)\n",
    "\n",
    "test_words = final_words[int(0.9 * len(final_words)):]\n",
    "test_definitions = final_definitions[int(0.9 * len(final_definitions)):]\n",
    "test_embeddings = final_embeddings[int(0.9 * len(final_embeddings)):]\n",
    "\n",
    "test_dataset = DefinitionAndEmbeddings(test_words, test_embeddings, test_definitions, tokenizer, 512)"
   ]
  },
  {
   "cell_type": "markdown",
   "id": "df417af0-8272-4235-b2fe-c86be30daf42",
   "metadata": {},
   "source": [
    "## Set up Training and Testing `DataLoader`s\n",
    "For use in iterating and processing through batches."
   ]
  },
  {
   "cell_type": "code",
   "execution_count": 10,
   "id": "bfd54704",
   "metadata": {},
   "outputs": [
    {
     "data": {
      "text/plain": [
       "('weights/G2GMaskingT/tokenizer_config.json',\n",
       " 'weights/G2GMaskingT/special_tokens_map.json',\n",
       " 'weights/G2GMaskingT/vocab.json',\n",
       " 'weights/G2GMaskingT/merges.txt',\n",
       " 'weights/G2GMaskingT/added_tokens.json')"
      ]
     },
     "execution_count": 10,
     "metadata": {},
     "output_type": "execute_result"
    }
   ],
   "source": [
    "tokenizer.save_pretrained('weights/G2GMaskingT')"
   ]
  },
  {
   "cell_type": "code",
   "execution_count": 11,
   "id": "04e0184b",
   "metadata": {},
   "outputs": [],
   "source": [
    "train_params = {'batch_size': 2,\n",
    "                'shuffle': False,\n",
    "                'num_workers': 0\n",
    "                }\n",
    "\n",
    "training_loader = DataLoader(train_dataset, **train_params)\n",
    "\n",
    "test_params = {'batch_size': 2,\n",
    "                'shuffle': False,\n",
    "                'num_workers': 0\n",
    "                }\n",
    "\n",
    "testing_loader = DataLoader(test_dataset, **test_params)"
   ]
  },
  {
   "cell_type": "markdown",
   "id": "7aa091b4-17e1-4756-aafd-4aec40723bfd",
   "metadata": {},
   "source": [
    "## Training the Network\n",
    "Also make sure to save weights after every couple of iterations."
   ]
  },
  {
   "cell_type": "code",
   "execution_count": 12,
   "id": "5d071d7a",
   "metadata": {},
   "outputs": [
    {
     "name": "stdout",
     "output_type": "stream",
     "text": [
      "loading in old model and tokenizer\n",
      "Using GPU\n"
     ]
    },
    {
     "name": "stderr",
     "output_type": "stream",
     "text": [
      "1329it [05:17,  4.18it/s]\n"
     ]
    },
    {
     "name": "stdout",
     "output_type": "stream",
     "text": [
      "training running loss:  93.40311047341675\n"
     ]
    },
    {
     "name": "stderr",
     "output_type": "stream",
     "text": [
      "148it [00:12, 12.09it/s]\n"
     ]
    },
    {
     "name": "stdout",
     "output_type": "stream",
     "text": [
      "testing running loss:  1.2255758973769844\n",
      "\n"
     ]
    },
    {
     "name": "stderr",
     "output_type": "stream",
     "text": [
      "1329it [05:18,  4.17it/s]\n"
     ]
    },
    {
     "name": "stdout",
     "output_type": "stream",
     "text": [
      "training running loss:  10.733476765220985\n"
     ]
    },
    {
     "name": "stderr",
     "output_type": "stream",
     "text": [
      "148it [00:12, 12.07it/s]\n"
     ]
    },
    {
     "name": "stdout",
     "output_type": "stream",
     "text": [
      "testing running loss:  1.1407861835323274\n",
      "\n"
     ]
    },
    {
     "name": "stderr",
     "output_type": "stream",
     "text": [
      "1329it [05:18,  4.18it/s]\n"
     ]
    },
    {
     "name": "stdout",
     "output_type": "stream",
     "text": [
      "training running loss:  9.990708225406706\n"
     ]
    },
    {
     "name": "stderr",
     "output_type": "stream",
     "text": [
      "148it [00:12, 12.06it/s]\n"
     ]
    },
    {
     "name": "stdout",
     "output_type": "stream",
     "text": [
      "testing running loss:  1.0775466617196798\n",
      "\n"
     ]
    },
    {
     "name": "stderr",
     "output_type": "stream",
     "text": [
      "1329it [05:18,  4.18it/s]\n"
     ]
    },
    {
     "name": "stdout",
     "output_type": "stream",
     "text": [
      "training running loss:  9.60497555974871\n"
     ]
    },
    {
     "name": "stderr",
     "output_type": "stream",
     "text": [
      "148it [00:12, 12.07it/s]\n"
     ]
    },
    {
     "name": "stdout",
     "output_type": "stream",
     "text": [
      "testing running loss:  1.0611579371616244\n",
      "\n"
     ]
    },
    {
     "name": "stderr",
     "output_type": "stream",
     "text": [
      "1329it [05:18,  4.18it/s]\n"
     ]
    },
    {
     "name": "stdout",
     "output_type": "stream",
     "text": [
      "training running loss:  9.491591854719445\n"
     ]
    },
    {
     "name": "stderr",
     "output_type": "stream",
     "text": [
      "148it [00:12, 12.07it/s]\n"
     ]
    },
    {
     "name": "stdout",
     "output_type": "stream",
     "text": [
      "testing running loss:  1.0361177208833396\n",
      "\n"
     ]
    },
    {
     "name": "stderr",
     "output_type": "stream",
     "text": [
      "1329it [05:18,  4.18it/s]\n"
     ]
    },
    {
     "name": "stdout",
     "output_type": "stream",
     "text": [
      "training running loss:  9.418701958376914\n"
     ]
    },
    {
     "name": "stderr",
     "output_type": "stream",
     "text": [
      "148it [00:12, 12.08it/s]\n"
     ]
    },
    {
     "name": "stdout",
     "output_type": "stream",
     "text": [
      "testing running loss:  1.0385296198073775\n",
      "\n"
     ]
    },
    {
     "name": "stderr",
     "output_type": "stream",
     "text": [
      "1329it [05:18,  4.18it/s]\n"
     ]
    },
    {
     "name": "stdout",
     "output_type": "stream",
     "text": [
      "training running loss:  9.323146499227732\n"
     ]
    },
    {
     "name": "stderr",
     "output_type": "stream",
     "text": [
      "148it [00:12, 12.07it/s]\n"
     ]
    },
    {
     "name": "stdout",
     "output_type": "stream",
     "text": [
      "testing running loss:  1.0242210845462978\n",
      "\n"
     ]
    },
    {
     "name": "stderr",
     "output_type": "stream",
     "text": [
      "1329it [05:17,  4.18it/s]\n"
     ]
    },
    {
     "name": "stdout",
     "output_type": "stream",
     "text": [
      "training running loss:  9.227712941821665\n"
     ]
    },
    {
     "name": "stderr",
     "output_type": "stream",
     "text": [
      "148it [00:12, 12.06it/s]\n"
     ]
    },
    {
     "name": "stdout",
     "output_type": "stream",
     "text": [
      "testing running loss:  1.0368527872487903\n",
      "\n"
     ]
    },
    {
     "name": "stderr",
     "output_type": "stream",
     "text": [
      "1329it [05:18,  4.17it/s]\n"
     ]
    },
    {
     "name": "stdout",
     "output_type": "stream",
     "text": [
      "training running loss:  9.227445332333446\n"
     ]
    },
    {
     "name": "stderr",
     "output_type": "stream",
     "text": [
      "148it [00:12, 12.06it/s]\n"
     ]
    },
    {
     "name": "stdout",
     "output_type": "stream",
     "text": [
      "testing running loss:  1.0191450798884034\n",
      "\n"
     ]
    },
    {
     "name": "stderr",
     "output_type": "stream",
     "text": [
      "1329it [05:18,  4.18it/s]\n"
     ]
    },
    {
     "name": "stdout",
     "output_type": "stream",
     "text": [
      "training running loss:  9.132990080164745\n"
     ]
    },
    {
     "name": "stderr",
     "output_type": "stream",
     "text": [
      "148it [00:12, 12.05it/s]\n"
     ]
    },
    {
     "name": "stdout",
     "output_type": "stream",
     "text": [
      "testing running loss:  1.0150716756470501\n",
      "\n"
     ]
    },
    {
     "name": "stderr",
     "output_type": "stream",
     "text": [
      "1329it [05:17,  4.18it/s]\n"
     ]
    },
    {
     "name": "stdout",
     "output_type": "stream",
     "text": [
      "training running loss:  9.035422204528004\n"
     ]
    },
    {
     "name": "stderr",
     "output_type": "stream",
     "text": [
      "148it [00:12, 12.07it/s]\n"
     ]
    },
    {
     "name": "stdout",
     "output_type": "stream",
     "text": [
      "testing running loss:  1.04282828560099\n",
      "\n"
     ]
    },
    {
     "name": "stderr",
     "output_type": "stream",
     "text": [
      "1329it [05:18,  4.18it/s]\n"
     ]
    },
    {
     "name": "stdout",
     "output_type": "stream",
     "text": [
      "training running loss:  9.053890063427389\n"
     ]
    },
    {
     "name": "stderr",
     "output_type": "stream",
     "text": [
      "148it [00:12, 12.08it/s]\n"
     ]
    },
    {
     "name": "stdout",
     "output_type": "stream",
     "text": [
      "testing running loss:  0.9796658505219966\n",
      "\n"
     ]
    },
    {
     "name": "stderr",
     "output_type": "stream",
     "text": [
      "1329it [05:17,  4.18it/s]\n"
     ]
    },
    {
     "name": "stdout",
     "output_type": "stream",
     "text": [
      "training running loss:  8.958520439919084\n"
     ]
    },
    {
     "name": "stderr",
     "output_type": "stream",
     "text": [
      "148it [00:12, 12.06it/s]\n"
     ]
    },
    {
     "name": "stdout",
     "output_type": "stream",
     "text": [
      "testing running loss:  0.9781427565030754\n",
      "\n"
     ]
    },
    {
     "name": "stderr",
     "output_type": "stream",
     "text": [
      "1329it [05:18,  4.18it/s]\n"
     ]
    },
    {
     "name": "stdout",
     "output_type": "stream",
     "text": [
      "training running loss:  8.839024084620178\n"
     ]
    },
    {
     "name": "stderr",
     "output_type": "stream",
     "text": [
      "148it [00:12, 12.06it/s]\n"
     ]
    },
    {
     "name": "stdout",
     "output_type": "stream",
     "text": [
      "testing running loss:  0.9655803644564003\n",
      "\n"
     ]
    },
    {
     "name": "stderr",
     "output_type": "stream",
     "text": [
      "1329it [05:17,  4.18it/s]\n"
     ]
    },
    {
     "name": "stdout",
     "output_type": "stream",
     "text": [
      "training running loss:  8.692172870505601\n"
     ]
    },
    {
     "name": "stderr",
     "output_type": "stream",
     "text": [
      "148it [00:12, 12.12it/s]"
     ]
    },
    {
     "name": "stdout",
     "output_type": "stream",
     "text": [
      "testing running loss:  0.9658376432489604\n",
      "\n"
     ]
    },
    {
     "name": "stderr",
     "output_type": "stream",
     "text": [
      "\n"
     ]
    }
   ],
   "source": [
    "import torch.nn as nn\n",
    "import torch.optim as optim\n",
    "from tqdm import tqdm\n",
    "\n",
    "# Add to GPU\n",
    "import_model = True\n",
    "if import_model:\n",
    "    print(\"loading in old model and tokenizer\")\n",
    "    model = GPT2LMHeadModel.from_pretrained(\"weights/G2GMaskingEpoch3M\")\n",
    "    tokenizer = GPT2Tokenizer.from_pretrained('weights/G2GMaskingT')\n",
    "    if (torch.cuda.is_available()):\n",
    "        print(\"Using GPU\")\n",
    "        model.to('cuda')\n",
    "\n",
    "# Define loss function and optimizer\n",
    "mse_loss = nn.MSELoss()\n",
    "optimizer = optim.Adam(model.parameters(), lr=0.001)\n",
    "\n",
    "model.train()\n",
    "best = float('inf')\n",
    "for i in range(15):\n",
    "    training_running_loss = 0.0\n",
    "    \n",
    "    for j, data in tqdm(enumerate(training_loader, 0)):\n",
    "        # Only optimize after every 10th batch or so -- make training more efficient\n",
    "        if (j % 10 == 0):\n",
    "            optimizer.step()\n",
    "            optimizer.zero_grad()\n",
    "        \n",
    "        # Run the model on the inputs\n",
    "        outputs = model(input_ids=data[\"input_ids\"], output_hidden_states=True, attention_mask = data[\"attention_mask\"])\n",
    "        \n",
    "        # Get last hidden state\n",
    "        last_hidden = outputs.hidden_states[-1][:,511,:]\n",
    "        \n",
    "        # Get the original embeddings and calculate the loss\n",
    "        loss = mse_loss(last_hidden, data[\"label\"].to(\"cuda\"))\n",
    "        loss.backward(retain_graph=True)\n",
    "\n",
    "        training_running_loss += loss.item()\n",
    "    \n",
    "    # Take a step once we get outside the batches\n",
    "    optimizer.step()\n",
    "    optimizer.zero_grad()\n",
    "    \n",
    "    # Printing and saving\n",
    "    print(\"training running loss: \", training_running_loss)\n",
    "    model.save_pretrained('weights/G2GMaskingEpoch' + str(i + 4) + 'M')\n",
    "\n",
    "    # evaluate on test set after every epoch:\n",
    "    testing_running_loss = 0 \n",
    "\n",
    "    for j, data in tqdm(enumerate(testing_loader, 0)):\n",
    "\n",
    "        outputs = model(input_ids=data[\"input_ids\"], output_hidden_states=True, attention_mask = data[\"attention_mask\"])\n",
    "\n",
    "        # Get last hidden state\n",
    "        last_hidden = outputs.hidden_states[-1][:,511,:]\n",
    "        loss = mse_loss(last_hidden, data[\"label\"].to(\"cuda\"))\n",
    "        testing_running_loss += loss.item()\n",
    "\n",
    "    if testing_running_loss < best:\n",
    "        best = testing_running_loss\n",
    "        model.save_pretrained('weights/G2GMaskingBestM')\n",
    "    print(\"testing running loss: \", testing_running_loss)\n",
    "    print(\"\")"
   ]
  },
  {
   "cell_type": "markdown",
   "id": "ac71b88f-cdd6-4e71-bb8e-c2c720c58cbd",
   "metadata": {},
   "source": [
    "## Saving Model Weights\n",
    "Save the final model weights!"
   ]
  },
  {
   "cell_type": "code",
   "execution_count": 13,
   "id": "dda5daf0",
   "metadata": {},
   "outputs": [],
   "source": [
    "model.save_pretrained('weights/MG2GMaskingFinal')"
   ]
  }
 ],
 "metadata": {
  "kernelspec": {
   "display_name": "Python (pytorch)",
   "language": "python",
   "name": "pytorch"
  },
  "language_info": {
   "codemirror_mode": {
    "name": "ipython",
    "version": 3
   },
   "file_extension": ".py",
   "mimetype": "text/x-python",
   "name": "python",
   "nbconvert_exporter": "python",
   "pygments_lexer": "ipython3",
   "version": "3.9.13"
  }
 },
 "nbformat": 4,
 "nbformat_minor": 5
}
