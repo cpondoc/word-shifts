{
 "cells": [
  {
   "cell_type": "markdown",
   "id": "5b85fe7b-cd51-4a14-8079-2a6146d72adf",
   "metadata": {},
   "source": [
    "# CS 224N - Training LLMs to Predict Word Embeddings\n",
    "Using RoBERTa and GPT-2 to predict word embeddings."
   ]
  },
  {
   "cell_type": "markdown",
   "id": "02be948f-5392-44a7-b250-597527e3f474",
   "metadata": {},
   "source": [
    "## Setting up PyTorch\n",
    "Using PyTorch on the GPU"
   ]
  },
  {
   "cell_type": "code",
   "execution_count": 1,
   "id": "8b013644-fe9c-4c94-bc13-4d28c4a6c617",
   "metadata": {},
   "outputs": [
    {
     "name": "stdout",
     "output_type": "stream",
     "text": [
      "Using GPU: True\n"
     ]
    }
   ],
   "source": [
    "import torch\n",
    "print(\"Using GPU: \" + str(torch.cuda.is_available()))\n",
    "from torch.utils.data import Dataset, DataLoader"
   ]
  },
  {
   "cell_type": "markdown",
   "id": "2c21809b-a2f7-4c40-8a69-69683a08f207",
   "metadata": {},
   "source": [
    "## Grab GPT-2 and Word Embeddings\n",
    "Look at word embeddings GPT-2 has processed"
   ]
  },
  {
   "cell_type": "code",
   "execution_count": 2,
   "id": "4427bc2a-0605-42b2-9b15-5d46dc31753e",
   "metadata": {},
   "outputs": [
    {
     "name": "stderr",
     "output_type": "stream",
     "text": [
      "Some weights of the model checkpoint at roberta-large were not used when initializing RobertaModel: ['lm_head.dense.bias', 'lm_head.bias', 'lm_head.decoder.weight', 'lm_head.dense.weight', 'lm_head.layer_norm.bias', 'lm_head.layer_norm.weight']\n",
      "- This IS expected if you are initializing RobertaModel from the checkpoint of a model trained on another task or with another architecture (e.g. initializing a BertForSequenceClassification model from a BertForPreTraining model).\n",
      "- This IS NOT expected if you are initializing RobertaModel from the checkpoint of a model that you expect to be exactly identical (initializing a BertForSequenceClassification model from a BertForSequenceClassification model).\n"
     ]
    }
   ],
   "source": [
    "from transformers import RobertaModel, RobertaTokenizer\n",
    "\n",
    "# Set up model, tokenizer, and grab weights\n",
    "model = RobertaModel.from_pretrained('roberta-large').to(\"cuda\")\n",
    "tokenizer = RobertaTokenizer.from_pretrained('roberta-large')\n",
    "word_embeddings = model.embeddings.word_embeddings.weight"
   ]
  },
  {
   "cell_type": "markdown",
   "id": "f31d3e0e-26f1-45fd-bd87-e8ec07ec4dec",
   "metadata": {},
   "source": [
    "## Import WinoDict Dataset\n",
    "Used so that we don't have the overlapping definitions from the test set."
   ]
  },
  {
   "cell_type": "code",
   "execution_count": 3,
   "id": "f506bf97-22e6-4e7d-9339-6c6f814551e4",
   "metadata": {},
   "outputs": [],
   "source": [
    "import pandas as pd\n",
    "first_set = pd.read_csv(\"winodict/prob1_of_5.csv\")\n",
    "winodict_words = first_set['lemma'].tolist()"
   ]
  },
  {
   "cell_type": "markdown",
   "id": "4833656e-79c6-4e54-b78c-10c7c114d353",
   "metadata": {},
   "source": [
    "## Look at WordNet Definitions and Words\n",
    "Using online package `wn`."
   ]
  },
  {
   "cell_type": "code",
   "execution_count": 4,
   "id": "6e693144-f493-407f-8bc3-c713d088e409",
   "metadata": {},
   "outputs": [],
   "source": [
    "from nltk.corpus import wordnet as wn\n",
    "\n",
    "def create_wordnet_dataset():\n",
    "    words, embeddings, definitions = [], [], []\n",
    "\n",
    "    for ss in wn.all_synsets():\n",
    "        for lemma in ss.lemmas():\n",
    "            word = lemma.name()\n",
    "            if (word is not None and word in winodict_words):\n",
    "                tokens = tokenizer.encode(word,add_prefix_space=True)\n",
    "                if (len(tokens) == 3):\n",
    "                    words.append(word)\n",
    "                    definitions.append(ss.definition())\n",
    "                    embeddings.append(word_embeddings[tokens[1],:])\n",
    "    return words, embeddings, definitions"
   ]
  },
  {
   "cell_type": "markdown",
   "id": "3e75456b-bbfb-4fd3-a1d3-25bf3af07a17",
   "metadata": {},
   "source": [
    "## Separate Saving\n",
    "Separate work to save everything."
   ]
  },
  {
   "cell_type": "code",
   "execution_count": 5,
   "id": "115b0196-a91a-4328-82fb-0e7d8abaf7c0",
   "metadata": {},
   "outputs": [],
   "source": [
    "def save_words():\n",
    "    words, embeddings, definitions = create_wordnet_dataset()\n",
    "    words = list(set(words))\n",
    "    with open(\"datasets/wordnet.txt\", \"w\") as txt_file:\n",
    "        for word in words:\n",
    "            txt_file.write(word + \"\\n\")"
   ]
  },
  {
   "cell_type": "markdown",
   "id": "cbe0f1ac",
   "metadata": {},
   "source": [
    "## Shuffle Dataset\n",
    "Randomize order of words and definitions + embeddings."
   ]
  },
  {
   "cell_type": "code",
   "execution_count": 6,
   "id": "0b6f6666",
   "metadata": {},
   "outputs": [],
   "source": [
    "import random\n",
    "\n",
    "def shuffle_dataset(final_words, final_embeddings, final_definitions):\n",
    "    c = list(zip(final_words, final_definitions, final_embeddings))\n",
    "    random.shuffle(c)\n",
    "    final_words, final_definitions, final_embeddings = zip(*c)\n",
    "    return final_words, final_embeddings, final_definitions"
   ]
  },
  {
   "cell_type": "markdown",
   "id": "eca3ea5a-92e8-4680-8076-f060db50a287",
   "metadata": {},
   "source": [
    "## Create the Custom Dataset\n",
    "Helpful for extracting embeddings and definitions"
   ]
  },
  {
   "cell_type": "code",
   "execution_count": 7,
   "id": "986b1d31",
   "metadata": {},
   "outputs": [],
   "source": [
    "class DefinitionAndEmbeddings(Dataset):\n",
    "\n",
    "    def __init__(self, final_words, final_embeddings, final_definitions, tokenizer):\n",
    "        self.words = final_words\n",
    "\n",
    "        self.inputs = tokenizer(final_definitions, return_tensors = \"pt\", padding = \"max_length\", max_length = 512)\n",
    "\n",
    "        self.inputs[\"input_ids\"] = self.inputs[\"input_ids\"].to(\"cuda\")\n",
    "        self.inputs[\"attention_mask\"] = self.inputs[\"attention_mask\"].to(\"cuda\")\n",
    "        self.labels = final_embeddings\n",
    "\n",
    "    def __len__(self):\n",
    "        return len(self.words)\n",
    "\n",
    "    def __getitem__(self, idx):\n",
    "        return {\n",
    "            \"input_ids\": self.inputs[\"input_ids\"][idx],\n",
    "            \"attention_mask\": self.inputs[\"attention_mask\"][idx],\n",
    "            \"label\": self.labels[idx],\n",
    "            \"word\": self.words[idx]\n",
    "        }\n"
   ]
  },
  {
   "cell_type": "markdown",
   "id": "46101dc6-3668-4b35-86c6-0e3fae7166e3",
   "metadata": {},
   "source": [
    "## Construct Train and Test Datasets\n",
    "Call from above to generate from either WordNet or WordSet."
   ]
  },
  {
   "cell_type": "code",
   "execution_count": 8,
   "id": "9f2b5a91",
   "metadata": {},
   "outputs": [],
   "source": [
    "# Create the stuff from existing functions\n",
    "final_words, final_embeddings, final_definitions = create_wordnet_dataset()\n",
    "final_words, final_embeddings, final_definitions = shuffle_dataset(final_words, final_embeddings, final_definitions)\n",
    "\n",
    "# Create the train splits\n",
    "train_words = final_words[:int(0.9 * len(final_words))]\n",
    "train_definitions = final_definitions[:int(0.9 * len(final_definitions))]\n",
    "train_embeddings = final_embeddings[:int(0.9 * len(final_embeddings))]\n",
    "\n",
    "# Create the train dataset\n",
    "train_dataset = DefinitionAndEmbeddings(train_words, train_embeddings, train_definitions, tokenizer)\n",
    "\n",
    "# Create the test splits\n",
    "test_words = final_words[int(0.9 * len(final_words)):]\n",
    "test_definitions = final_definitions[int(0.9 * len(final_definitions)):]\n",
    "test_embeddings = final_embeddings[int(0.9 * len(final_embeddings)):]\n",
    "\n",
    "# Create the test dataset\n",
    "test_dataset = DefinitionAndEmbeddings(test_words, test_embeddings, test_definitions, tokenizer)"
   ]
  },
  {
   "cell_type": "markdown",
   "id": "df417af0-8272-4235-b2fe-c86be30daf42",
   "metadata": {},
   "source": [
    "## Set up Training and Testing `DataLoader`s\n",
    "For use in iterating and processing through batches."
   ]
  },
  {
   "cell_type": "code",
   "execution_count": 9,
   "id": "04e0184b",
   "metadata": {},
   "outputs": [],
   "source": [
    "train_params = {'batch_size': 2,\n",
    "                'shuffle': False,\n",
    "                'num_workers': 0\n",
    "                }\n",
    "\n",
    "training_loader = DataLoader(train_dataset, **train_params)\n",
    "\n",
    "test_params = {'batch_size': 2,\n",
    "                'shuffle': False,\n",
    "                'num_workers': 0\n",
    "                }\n",
    "\n",
    "testing_loader = DataLoader(test_dataset, **test_params)"
   ]
  },
  {
   "cell_type": "code",
   "execution_count": 10,
   "id": "f8cf88d6",
   "metadata": {},
   "outputs": [
    {
     "data": {
      "text/plain": [
       "<torch.autograd.anomaly_mode.set_detect_anomaly at 0x7fa649d58520>"
      ]
     },
     "execution_count": 10,
     "metadata": {},
     "output_type": "execute_result"
    }
   ],
   "source": [
    "torch.autograd.set_detect_anomaly(True)"
   ]
  },
  {
   "cell_type": "markdown",
   "id": "7aa091b4-17e1-4756-aafd-4aec40723bfd",
   "metadata": {},
   "source": [
    "## Training the Network\n",
    "Also make sure to save weights after every couple of iterations."
   ]
  },
  {
   "cell_type": "code",
   "execution_count": 10,
   "id": "ec431745",
   "metadata": {},
   "outputs": [
    {
     "ename": "AttributeError",
     "evalue": "'RobertaModel' object has no attribute 'transformer'",
     "output_type": "error",
     "traceback": [
      "\u001b[0;31m---------------------------------------------------------------------------\u001b[0m",
      "\u001b[0;31mAttributeError\u001b[0m                            Traceback (most recent call last)",
      "Cell \u001b[0;32mIn[10], line 19\u001b[0m\n\u001b[1;32m     17\u001b[0m model\u001b[39m.\u001b[39mtrain()\n\u001b[1;32m     18\u001b[0m best \u001b[39m=\u001b[39m \u001b[39mfloat\u001b[39m(\u001b[39m'\u001b[39m\u001b[39minf\u001b[39m\u001b[39m'\u001b[39m)\n\u001b[0;32m---> 19\u001b[0m aggregated_gradients \u001b[39m=\u001b[39m torch\u001b[39m.\u001b[39mzeros(model\u001b[39m.\u001b[39;49mtransformer\u001b[39m.\u001b[39mwte\u001b[39m.\u001b[39mweight\u001b[39m.\u001b[39mshape)\u001b[39m.\u001b[39mto(\u001b[39m\"\u001b[39m\u001b[39mcuda\u001b[39m\u001b[39m\"\u001b[39m)\n\u001b[1;32m     20\u001b[0m \u001b[39mfor\u001b[39;00m i \u001b[39min\u001b[39;00m \u001b[39mrange\u001b[39m(\u001b[39m5\u001b[39m):\n\u001b[1;32m     21\u001b[0m     training_running_loss \u001b[39m=\u001b[39m \u001b[39m0.0\u001b[39m\n",
      "File \u001b[0;32m/opt/conda/envs/pytorch/lib/python3.9/site-packages/torch/nn/modules/module.py:1207\u001b[0m, in \u001b[0;36mModule.__getattr__\u001b[0;34m(self, name)\u001b[0m\n\u001b[1;32m   1205\u001b[0m     \u001b[39mif\u001b[39;00m name \u001b[39min\u001b[39;00m modules:\n\u001b[1;32m   1206\u001b[0m         \u001b[39mreturn\u001b[39;00m modules[name]\n\u001b[0;32m-> 1207\u001b[0m \u001b[39mraise\u001b[39;00m \u001b[39mAttributeError\u001b[39;00m(\u001b[39m\"\u001b[39m\u001b[39m'\u001b[39m\u001b[39m{}\u001b[39;00m\u001b[39m'\u001b[39m\u001b[39m object has no attribute \u001b[39m\u001b[39m'\u001b[39m\u001b[39m{}\u001b[39;00m\u001b[39m'\u001b[39m\u001b[39m\"\u001b[39m\u001b[39m.\u001b[39mformat(\n\u001b[1;32m   1208\u001b[0m     \u001b[39mtype\u001b[39m(\u001b[39mself\u001b[39m)\u001b[39m.\u001b[39m\u001b[39m__name__\u001b[39m, name))\n",
      "\u001b[0;31mAttributeError\u001b[0m: 'RobertaModel' object has no attribute 'transformer'"
     ]
    }
   ],
   "source": [
    "import torch.nn as nn\n",
    "import torch.optim as optim\n",
    "from tqdm import tqdm\n",
    "\n",
    "# Add to GPU\n",
    "import_model = False\n",
    "if import_model:\n",
    "    model = GPT2LMHeadModel.from_pretrained(\"weights/G2G1\")\n",
    "    if (torch.cuda.is_available()):\n",
    "        print(\"Using GPU\")\n",
    "        model.to('cuda')\n",
    "\n",
    "# Define loss function and optimizer\n",
    "mse_loss = nn.MSELoss()\n",
    "optimizer = optim.Adam(model.parameters(), lr=0.001)\n",
    "\n",
    "model.train()\n",
    "best = float('inf')\n",
    "aggregated_gradients = torch.zeros(model.transformer.wte.weight.shape).to(\"cuda\")\n",
    "for i in range(5):\n",
    "    training_running_loss = 0.0\n",
    "    \n",
    "    for j, data in tqdm(enumerate(training_loader, 0)):\n",
    "        if j % 10 == 0:\n",
    "            # Finish up optimization\n",
    "            model.transformer.wte.weight.grad = aggregated_gradients\n",
    "            optimizer.step()\n",
    "            aggregated_gradients = torch.zeros(model.transformer.wte.weight.shape).to(\"cuda\")\n",
    "            optimizer.zero_grad()\n",
    "\n",
    "        # Run the model on the inputs\n",
    "        outputs = model(input_ids=data[\"input_ids\"], output_hidden_states=True, attention_mask = data[\"attention_mask\"])\n",
    "        \n",
    "        # Get last hidden state\n",
    "        last_hidden = outputs.hidden_states[-1][:,0,:].detach()\n",
    "        \n",
    "        # Get the original embeddings and calculate the loss\n",
    "        loss = mse_loss(last_hidden, data[\"label\"].to(\"cuda\"))\n",
    "        loss.backward(retain_graph=True)\n",
    "        aggregated_gradients += model.transformer.wte.weight.grad\n",
    "        optimizer.zero_grad()\n",
    "\n",
    "        training_running_loss += loss.item()\n",
    "\n",
    "    # Take a step once we get outside the batches\n",
    "    model.transformer.wte.weight.grad = aggregated_gradients\n",
    "    optimizer.step()\n",
    "    aggregated_gradients = torch.zeros(model.transformer.wte.weight.shape).to(\"cuda\")\n",
    "    optimizer.zero_grad()\n",
    "    \n",
    "    # Printing and saving\n",
    "    print(\"training running loss: \", training_running_loss)\n",
    "    model.save_pretrained('weights/R2GNew' + str(i+1))\n",
    "\n",
    "    # evaluate on test set after every epoch:\n",
    "    testing_running_loss = 0 \n",
    "\n",
    "    for j, data in tqdm(enumerate(testing_loader, 0)):\n",
    "\n",
    "        outputs = model(input_ids=data[\"input_ids\"], output_hidden_states=True, attention_mask = data[\"attention_mask\"])\n",
    "\n",
    "        # Get last hidden state\n",
    "        last_hidden = outputs.hidden_states[-1][:,0,:]\n",
    "        loss = mse_loss(last_hidden, data[\"label\"].to(\"cuda\"))\n",
    "        testing_running_loss += loss.item()\n",
    "\n",
    "    if testing_running_loss < best:\n",
    "        best = testing_running_loss\n",
    "        model.save_pretrained('weights/R2GNewBest')\n",
    "    print(\"testing running loss: \", testing_running_loss)\n",
    "    print(\"\")"
   ]
  },
  {
   "cell_type": "code",
   "execution_count": 11,
   "id": "5d071d7a",
   "metadata": {},
   "outputs": [
    {
     "name": "stderr",
     "output_type": "stream",
     "text": [
      "5it [00:01,  3.27it/s]/opt/conda/envs/pytorch/lib/python3.9/site-packages/torch/autograd/__init__.py:173: UserWarning: Error detected in StackBackward0. Traceback of forward call that caused the error:\n",
      "  File \"/opt/conda/envs/pytorch/lib/python3.9/runpy.py\", line 197, in _run_module_as_main\n",
      "    return _run_code(code, main_globals, None,\n",
      "  File \"/opt/conda/envs/pytorch/lib/python3.9/runpy.py\", line 87, in _run_code\n",
      "    exec(code, run_globals)\n",
      "  File \"/home/ubuntu/.local/lib/python3.9/site-packages/ipykernel_launcher.py\", line 17, in <module>\n",
      "    app.launch_new_instance()\n",
      "  File \"/home/ubuntu/.local/lib/python3.9/site-packages/traitlets/config/application.py\", line 1043, in launch_instance\n",
      "    app.start()\n",
      "  File \"/home/ubuntu/.local/lib/python3.9/site-packages/ipykernel/kernelapp.py\", line 725, in start\n",
      "    self.io_loop.start()\n",
      "  File \"/home/ubuntu/.local/lib/python3.9/site-packages/tornado/platform/asyncio.py\", line 215, in start\n",
      "    self.asyncio_loop.run_forever()\n",
      "  File \"/opt/conda/envs/pytorch/lib/python3.9/asyncio/base_events.py\", line 601, in run_forever\n",
      "    self._run_once()\n",
      "  File \"/opt/conda/envs/pytorch/lib/python3.9/asyncio/base_events.py\", line 1905, in _run_once\n",
      "    handle._run()\n",
      "  File \"/opt/conda/envs/pytorch/lib/python3.9/asyncio/events.py\", line 80, in _run\n",
      "    self._context.run(self._callback, *self._args)\n",
      "  File \"/home/ubuntu/.local/lib/python3.9/site-packages/ipykernel/kernelbase.py\", line 513, in dispatch_queue\n",
      "    await self.process_one()\n",
      "  File \"/home/ubuntu/.local/lib/python3.9/site-packages/ipykernel/kernelbase.py\", line 502, in process_one\n",
      "    await dispatch(*args)\n",
      "  File \"/home/ubuntu/.local/lib/python3.9/site-packages/ipykernel/kernelbase.py\", line 409, in dispatch_shell\n",
      "    await result\n",
      "  File \"/home/ubuntu/.local/lib/python3.9/site-packages/ipykernel/kernelbase.py\", line 729, in execute_request\n",
      "    reply_content = await reply_content\n",
      "  File \"/home/ubuntu/.local/lib/python3.9/site-packages/ipykernel/ipkernel.py\", line 422, in do_execute\n",
      "    res = shell.run_cell(\n",
      "  File \"/home/ubuntu/.local/lib/python3.9/site-packages/ipykernel/zmqshell.py\", line 540, in run_cell\n",
      "    return super().run_cell(*args, **kwargs)\n",
      "  File \"/home/ubuntu/.local/lib/python3.9/site-packages/IPython/core/interactiveshell.py\", line 2961, in run_cell\n",
      "    result = self._run_cell(\n",
      "  File \"/home/ubuntu/.local/lib/python3.9/site-packages/IPython/core/interactiveshell.py\", line 3016, in _run_cell\n",
      "    result = runner(coro)\n",
      "  File \"/home/ubuntu/.local/lib/python3.9/site-packages/IPython/core/async_helpers.py\", line 129, in _pseudo_sync_runner\n",
      "    coro.send(None)\n",
      "  File \"/home/ubuntu/.local/lib/python3.9/site-packages/IPython/core/interactiveshell.py\", line 3221, in run_cell_async\n",
      "    has_raised = await self.run_ast_nodes(code_ast.body, cell_name,\n",
      "  File \"/home/ubuntu/.local/lib/python3.9/site-packages/IPython/core/interactiveshell.py\", line 3400, in run_ast_nodes\n",
      "    if await self.run_code(code, result, async_=asy):\n",
      "  File \"/home/ubuntu/.local/lib/python3.9/site-packages/IPython/core/interactiveshell.py\", line 3460, in run_code\n",
      "    exec(code_obj, self.user_global_ns, self.user_ns)\n",
      "  File \"/tmp/ipykernel_4776/1583856637.py\", line 22, in <module>\n",
      "    for j, data in tqdm(enumerate(training_loader, 0)):\n",
      "  File \"/home/ubuntu/.local/lib/python3.9/site-packages/tqdm/std.py\", line 1195, in __iter__\n",
      "    for obj in iterable:\n",
      "  File \"/opt/conda/envs/pytorch/lib/python3.9/site-packages/torch/utils/data/dataloader.py\", line 652, in __next__\n",
      "    data = self._next_data()\n",
      "  File \"/opt/conda/envs/pytorch/lib/python3.9/site-packages/torch/utils/data/dataloader.py\", line 692, in _next_data\n",
      "    data = self._dataset_fetcher.fetch(index)  # may raise StopIteration\n",
      "  File \"/opt/conda/envs/pytorch/lib/python3.9/site-packages/torch/utils/data/_utils/fetch.py\", line 52, in fetch\n",
      "    return self.collate_fn(data)\n",
      "  File \"/opt/conda/envs/pytorch/lib/python3.9/site-packages/torch/utils/data/_utils/collate.py\", line 160, in default_collate\n",
      "    return elem_type({key: default_collate([d[key] for d in batch]) for key in elem})\n",
      "  File \"/opt/conda/envs/pytorch/lib/python3.9/site-packages/torch/utils/data/_utils/collate.py\", line 160, in <dictcomp>\n",
      "    return elem_type({key: default_collate([d[key] for d in batch]) for key in elem})\n",
      "  File \"/opt/conda/envs/pytorch/lib/python3.9/site-packages/torch/utils/data/_utils/collate.py\", line 141, in default_collate\n",
      "    return torch.stack(batch, 0, out=out)\n",
      " (Triggered internally at  /opt/conda/conda-bld/pytorch_1656352657443/work/torch/csrc/autograd/python_anomaly_mode.cpp:102.)\n",
      "  Variable._execution_engine.run_backward(  # Calls into the C++ engine to run the backward pass\n",
      "5it [00:02,  2.28it/s]\n"
     ]
    },
    {
     "ename": "RuntimeError",
     "evalue": "one of the variables needed for gradient computation has been modified by an inplace operation: [torch.cuda.FloatTensor [1024]], which is output 0 of AsStridedBackward0, is at version 4; expected version 3 instead. Hint: the backtrace further above shows the operation that failed to compute its gradient. The variable in question was changed in there or anywhere later. Good luck!",
     "output_type": "error",
     "traceback": [
      "\u001b[0;31m---------------------------------------------------------------------------\u001b[0m",
      "\u001b[0;31mRuntimeError\u001b[0m                              Traceback (most recent call last)",
      "Cell \u001b[0;32mIn[11], line 39\u001b[0m\n\u001b[1;32m     37\u001b[0m     \u001b[38;5;66;03m# Get the original embeddings and calculate the loss\u001b[39;00m\n\u001b[1;32m     38\u001b[0m     loss \u001b[38;5;241m=\u001b[39m mse_loss(last_hidden, data[\u001b[38;5;124m\"\u001b[39m\u001b[38;5;124mlabel\u001b[39m\u001b[38;5;124m\"\u001b[39m]\u001b[38;5;241m.\u001b[39mto(\u001b[38;5;124m\"\u001b[39m\u001b[38;5;124mcuda\u001b[39m\u001b[38;5;124m\"\u001b[39m))\n\u001b[0;32m---> 39\u001b[0m     \u001b[43mloss\u001b[49m\u001b[38;5;241;43m.\u001b[39;49m\u001b[43mbackward\u001b[49m\u001b[43m(\u001b[49m\u001b[43mretain_graph\u001b[49m\u001b[38;5;241;43m=\u001b[39;49m\u001b[38;5;28;43;01mTrue\u001b[39;49;00m\u001b[43m)\u001b[49m\n\u001b[1;32m     41\u001b[0m     \u001b[38;5;66;03m#optimizer.step()\u001b[39;00m\n\u001b[1;32m     42\u001b[0m     \u001b[38;5;66;03m#optimizer.zero_grad()\u001b[39;00m\n\u001b[1;32m     43\u001b[0m \n\u001b[1;32m     44\u001b[0m     \u001b[38;5;66;03m#training_running_loss += loss.item()\u001b[39;00m\n\u001b[1;32m     45\u001b[0m \u001b[38;5;28;01mbreak\u001b[39;00m\n",
      "File \u001b[0;32m/opt/conda/envs/pytorch/lib/python3.9/site-packages/torch/_tensor.py:396\u001b[0m, in \u001b[0;36mTensor.backward\u001b[0;34m(self, gradient, retain_graph, create_graph, inputs)\u001b[0m\n\u001b[1;32m    387\u001b[0m \u001b[38;5;28;01mif\u001b[39;00m has_torch_function_unary(\u001b[38;5;28mself\u001b[39m):\n\u001b[1;32m    388\u001b[0m     \u001b[38;5;28;01mreturn\u001b[39;00m handle_torch_function(\n\u001b[1;32m    389\u001b[0m         Tensor\u001b[38;5;241m.\u001b[39mbackward,\n\u001b[1;32m    390\u001b[0m         (\u001b[38;5;28mself\u001b[39m,),\n\u001b[0;32m   (...)\u001b[0m\n\u001b[1;32m    394\u001b[0m         create_graph\u001b[38;5;241m=\u001b[39mcreate_graph,\n\u001b[1;32m    395\u001b[0m         inputs\u001b[38;5;241m=\u001b[39minputs)\n\u001b[0;32m--> 396\u001b[0m \u001b[43mtorch\u001b[49m\u001b[38;5;241;43m.\u001b[39;49m\u001b[43mautograd\u001b[49m\u001b[38;5;241;43m.\u001b[39;49m\u001b[43mbackward\u001b[49m\u001b[43m(\u001b[49m\u001b[38;5;28;43mself\u001b[39;49m\u001b[43m,\u001b[49m\u001b[43m \u001b[49m\u001b[43mgradient\u001b[49m\u001b[43m,\u001b[49m\u001b[43m \u001b[49m\u001b[43mretain_graph\u001b[49m\u001b[43m,\u001b[49m\u001b[43m \u001b[49m\u001b[43mcreate_graph\u001b[49m\u001b[43m,\u001b[49m\u001b[43m \u001b[49m\u001b[43minputs\u001b[49m\u001b[38;5;241;43m=\u001b[39;49m\u001b[43minputs\u001b[49m\u001b[43m)\u001b[49m\n",
      "File \u001b[0;32m/opt/conda/envs/pytorch/lib/python3.9/site-packages/torch/autograd/__init__.py:173\u001b[0m, in \u001b[0;36mbackward\u001b[0;34m(tensors, grad_tensors, retain_graph, create_graph, grad_variables, inputs)\u001b[0m\n\u001b[1;32m    168\u001b[0m     retain_graph \u001b[38;5;241m=\u001b[39m create_graph\n\u001b[1;32m    170\u001b[0m \u001b[38;5;66;03m# The reason we repeat same the comment below is that\u001b[39;00m\n\u001b[1;32m    171\u001b[0m \u001b[38;5;66;03m# some Python versions print out the first line of a multi-line function\u001b[39;00m\n\u001b[1;32m    172\u001b[0m \u001b[38;5;66;03m# calls in the traceback and some print out the last line\u001b[39;00m\n\u001b[0;32m--> 173\u001b[0m \u001b[43mVariable\u001b[49m\u001b[38;5;241;43m.\u001b[39;49m\u001b[43m_execution_engine\u001b[49m\u001b[38;5;241;43m.\u001b[39;49m\u001b[43mrun_backward\u001b[49m\u001b[43m(\u001b[49m\u001b[43m  \u001b[49m\u001b[38;5;66;43;03m# Calls into the C++ engine to run the backward pass\u001b[39;49;00m\n\u001b[1;32m    174\u001b[0m \u001b[43m    \u001b[49m\u001b[43mtensors\u001b[49m\u001b[43m,\u001b[49m\u001b[43m \u001b[49m\u001b[43mgrad_tensors_\u001b[49m\u001b[43m,\u001b[49m\u001b[43m \u001b[49m\u001b[43mretain_graph\u001b[49m\u001b[43m,\u001b[49m\u001b[43m \u001b[49m\u001b[43mcreate_graph\u001b[49m\u001b[43m,\u001b[49m\u001b[43m \u001b[49m\u001b[43minputs\u001b[49m\u001b[43m,\u001b[49m\n\u001b[1;32m    175\u001b[0m \u001b[43m    \u001b[49m\u001b[43mallow_unreachable\u001b[49m\u001b[38;5;241;43m=\u001b[39;49m\u001b[38;5;28;43;01mTrue\u001b[39;49;00m\u001b[43m,\u001b[49m\u001b[43m \u001b[49m\u001b[43maccumulate_grad\u001b[49m\u001b[38;5;241;43m=\u001b[39;49m\u001b[38;5;28;43;01mTrue\u001b[39;49;00m\u001b[43m)\u001b[49m\n",
      "\u001b[0;31mRuntimeError\u001b[0m: one of the variables needed for gradient computation has been modified by an inplace operation: [torch.cuda.FloatTensor [1024]], which is output 0 of AsStridedBackward0, is at version 4; expected version 3 instead. Hint: the backtrace further above shows the operation that failed to compute its gradient. The variable in question was changed in there or anywhere later. Good luck!"
     ]
    }
   ],
   "source": [
    "import torch.nn as nn\n",
    "import torch.optim as optim\n",
    "from tqdm import tqdm\n",
    "\n",
    "# Add to GPU\n",
    "import_model = False\n",
    "if import_model:\n",
    "    model = GPT2LMHeadModel.from_pretrained(\"weights/G2G1\")\n",
    "    if (torch.cuda.is_available()):\n",
    "        print(\"Using GPU\")\n",
    "        model.to('cuda')\n",
    "\n",
    "# Define loss function and optimizer\n",
    "mse_loss = nn.MSELoss()\n",
    "optimizer = optim.Adam(model.parameters(), lr=0.001)\n",
    "\n",
    "model.train()\n",
    "best = float('inf')\n",
    "for i in range(5):\n",
    "    training_running_loss = 0.0\n",
    "    \n",
    "    for j, data in tqdm(enumerate(training_loader, 0)):\n",
    "        if j % 10 == 0:\n",
    "            # Finish up optimization\n",
    "            optimizer.step()\n",
    "            optimizer.zero_grad()\n",
    "\n",
    "        # Run the model on the inputs\n",
    "        outputs = model(input_ids=data[\"input_ids\"], output_hidden_states=True, attention_mask = data[\"attention_mask\"])\n",
    "        \n",
    "        # Get last hidden state\n",
    "        last_hidden = outputs.hidden_states[-1][:,0,:].detach()\n",
    "        \n",
    "        # Get the original embeddings and calculate the loss\n",
    "        loss = mse_loss(last_hidden, data[\"label\"].to(\"cuda\"))\n",
    "        loss.backward(retain_graph=True)\n",
    "\n",
    "        training_running_loss += loss.item()\n",
    "\n",
    "    # Take a step once we get outside the batches\n",
    "    optimizer.step()\n",
    "    optimizer.zero_grad()\n",
    "    \n",
    "    # Printing and saving\n",
    "    print(\"training running loss: \", training_running_loss)\n",
    "    model.save_pretrained('weights/R2GNew' + str(i+1))\n",
    "\n",
    "    # evaluate on test set after every epoch:\n",
    "    testing_running_loss = 0 \n",
    "\n",
    "    for j, data in tqdm(enumerate(testing_loader, 0)):\n",
    "\n",
    "        outputs = model(input_ids=data[\"input_ids\"], output_hidden_states=True, attention_mask = data[\"attention_mask\"])\n",
    "\n",
    "        # Get last hidden state\n",
    "        last_hidden = outputs.hidden_states[-1][:,0,:]\n",
    "        loss = mse_loss(last_hidden, data[\"label\"].to(\"cuda\"))\n",
    "        testing_running_loss += loss.item()\n",
    "\n",
    "    if testing_running_loss < best:\n",
    "        best = testing_running_loss\n",
    "        model.save_pretrained('weights/R2GNewBest')\n",
    "    print(\"testing running loss: \", testing_running_loss)\n",
    "    print(\"\")"
   ]
  },
  {
   "cell_type": "markdown",
   "id": "ac71b88f-cdd6-4e71-bb8e-c2c720c58cbd",
   "metadata": {},
   "source": [
    "## Saving Model Weights\n",
    "Save the final model weights!"
   ]
  },
  {
   "cell_type": "code",
   "execution_count": null,
   "id": "dda5daf0",
   "metadata": {},
   "outputs": [],
   "source": [
    "model.save_pretrained('weights/R2GNewFinal')"
   ]
  }
 ],
 "metadata": {
  "kernelspec": {
   "display_name": "Python (pytorch)",
   "language": "python",
   "name": "pytorch"
  },
  "language_info": {
   "codemirror_mode": {
    "name": "ipython",
    "version": 3
   },
   "file_extension": ".py",
   "mimetype": "text/x-python",
   "name": "python",
   "nbconvert_exporter": "python",
   "pygments_lexer": "ipython3",
   "version": "3.9.13"
  }
 },
 "nbformat": 4,
 "nbformat_minor": 5
}
