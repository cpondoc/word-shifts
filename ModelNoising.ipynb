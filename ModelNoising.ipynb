{
 "cells": [
  {
   "cell_type": "code",
   "execution_count": 30,
   "metadata": {},
   "outputs": [
    {
     "name": "stdout",
     "output_type": "stream",
     "text": [
      "Using GPU: True\n"
     ]
    }
   ],
   "source": [
    "import torch\n",
    "print(\"Using GPU: \" + str(torch.cuda.is_available()))\n",
    "from torch.utils.data import Dataset, DataLoader\n",
    "from transformers import GPT2LMHeadModel, GPT2Tokenizer\n",
    "import numpy as np"
   ]
  },
  {
   "cell_type": "code",
   "execution_count": 31,
   "metadata": {},
   "outputs": [],
   "source": [
    "model = GPT2LMHeadModel.from_pretrained('gpt2-medium')\n",
    "tokenizer = GPT2Tokenizer.from_pretrained('gpt2-medium')\n",
    "params = model.state_dict()\n",
    "embeddings = params['transformer.wte.weight']"
   ]
  },
  {
   "cell_type": "code",
   "execution_count": 32,
   "metadata": {},
   "outputs": [],
   "source": [
    "#Take a model's embeddings and invert x*100 percent of the elements\n",
    "def invert_embeddings(embeddings, x):\n",
    "\n",
    "    dimension = len(embeddings[0])\n",
    "    chooseCount = int(dimension * x)\n",
    "    #I couldn't figure out how to vectorize across this dimension\n",
    "    for i in range(len(embeddings)):\n",
    "        embeddings[i, np.random.choice(range(dimension), size = chooseCount, replace = False)] *= -1\n"
   ]
  },
  {
   "cell_type": "code",
   "execution_count": 34,
   "metadata": {},
   "outputs": [
    {
     "name": "stdout",
     "output_type": "stream",
     "text": [
      "tensor([-0.0115,  0.0031, -0.0073,  ..., -0.0526, -0.1757,  0.0257])\n",
      "tensor([-0.0115,  0.0031, -0.0073,  ...,  0.0526, -0.1757,  0.0257])\n"
     ]
    }
   ],
   "source": [
    "invert_embeddings(embeddings, .01)"
   ]
  },
  {
   "cell_type": "code",
   "execution_count": null,
   "metadata": {},
   "outputs": [],
   "source": [
    "model.load_state_dict(params)\n",
    "model.save_pretrained('weights/noiseInverted1')"
   ]
  }
 ],
 "metadata": {
  "kernelspec": {
   "display_name": "Python (pytorch)",
   "language": "python",
   "name": "pytorch"
  },
  "language_info": {
   "codemirror_mode": {
    "name": "ipython",
    "version": 3
   },
   "file_extension": ".py",
   "mimetype": "text/x-python",
   "name": "python",
   "nbconvert_exporter": "python",
   "pygments_lexer": "ipython3",
   "version": "3.9.13"
  },
  "orig_nbformat": 4
 },
 "nbformat": 4,
 "nbformat_minor": 2
}
