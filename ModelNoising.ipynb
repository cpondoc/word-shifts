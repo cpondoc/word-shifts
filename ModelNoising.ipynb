{
 "cells": [
  {
   "cell_type": "code",
   "execution_count": 1,
   "metadata": {},
   "outputs": [
    {
     "name": "stdout",
     "output_type": "stream",
     "text": [
      "Using GPU: True\n"
     ]
    }
   ],
   "source": [
    "import torch\n",
    "import torch.nn as nn\n",
    "print(\"Using GPU: \" + str(torch.cuda.is_available()))\n",
    "from torch.utils.data import Dataset, DataLoader\n",
    "from transformers import GPT2LMHeadModel, GPT2Tokenizer\n",
    "import numpy as np"
   ]
  },
  {
   "cell_type": "code",
   "execution_count": 2,
   "metadata": {},
   "outputs": [],
   "source": [
    "model = GPT2LMHeadModel.from_pretrained('gpt2-medium')\n",
    "tokenizer = GPT2Tokenizer.from_pretrained('gpt2-medium')\n",
    "params = model.state_dict()\n",
    "embeddings = params['transformer.wte.weight']"
   ]
  },
  {
   "cell_type": "code",
   "execution_count": 7,
   "metadata": {},
   "outputs": [],
   "source": [
    "#Take a model's embeddings and invert x*100 percent of the elements\n",
    "def invert_embeddings(embeddings, x):\n",
    "\n",
    "    dimension = len(embeddings[0])\n",
    "    chooseCount = int(dimension * x)\n",
    "    #I couldn't figure out how to vectorize across this dimension\n",
    "    for i in range(len(embeddings)):\n",
    "        embeddings[i, np.random.choice(range(dimension), size = chooseCount, replace = False)] *= -1\n",
    "    \n",
    "    return embeddings"
   ]
  },
  {
   "cell_type": "code",
   "execution_count": 4,
   "metadata": {},
   "outputs": [],
   "source": [
    "def add_normal_noise(original):\n",
    "    observed_average_cosine_similarity = 1\n",
    "\n",
    "    #Determines values of |x|\n",
    "    original_norms = torch.linalg.norm(original, dim = 1)\n",
    "    original_norms = torch.reshape(original_norms, (-1, 1))\n",
    "    \n",
    "    embeddings = None\n",
    "    #our function to determine cosine similarity\n",
    "    cos = nn.CosineSimilarity(dim=1, eps=1e-8)\n",
    "\n",
    "    #while observed_average_cosine_similarity > 0.99:\n",
    "    #to tune\n",
    "    variance = 0.8\n",
    "\n",
    "    #Copies and noises embeddings to get x'\n",
    "    embeddings = original.detach().clone()\n",
    "    embeddings[:,:] += np.random.normal(0, variance, embeddings.shape)\n",
    "    \n",
    "    #normalize to get x''\n",
    "    embeddings_norms = torch.linalg.norm(embeddings, dim = 1)\n",
    "    embeddings_norms = torch.reshape(embeddings_norms, (-1, 1))\n",
    "    scaling_terms = original_norms / embeddings_norms\n",
    "    embeddings *= scaling_terms\n",
    "\n",
    "    cosine_similarities = cos(original, embeddings)\n",
    "    cosine_similarities = cosine_similarities.detach().numpy()\n",
    "    observed_average_cosine_similarity = np.mean(cosine_similarities)\n",
    "    print(observed_average_cosine_similarity)\n",
    "    print(\"\")\n",
    "\n",
    "    return embeddings\n",
    "    \n",
    "\n"
   ]
  },
  {
   "cell_type": "code",
   "execution_count": 12,
   "metadata": {},
   "outputs": [],
   "source": [
    "#embeddings = add_normal_noise(embeddings)\n",
    "params['transformer.wte.weight'] = invert_embeddings(embeddings, .1)"
   ]
  },
  {
   "cell_type": "code",
   "execution_count": 13,
   "metadata": {},
   "outputs": [],
   "source": [
    "model.load_state_dict(params)\n",
    "model.save_pretrained('weights/noisedInverted10')"
   ]
  },
  {
   "cell_type": "code",
   "execution_count": null,
   "metadata": {},
   "outputs": [],
   "source": []
  }
 ],
 "metadata": {
  "kernelspec": {
   "display_name": "Python (pytorch)",
   "language": "python",
   "name": "pytorch"
  },
  "language_info": {
   "codemirror_mode": {
    "name": "ipython",
    "version": 3
   },
   "file_extension": ".py",
   "mimetype": "text/x-python",
   "name": "python",
   "nbconvert_exporter": "python",
   "pygments_lexer": "ipython3",
   "version": "3.9.13"
  }
 },
 "nbformat": 4,
 "nbformat_minor": 4
}
