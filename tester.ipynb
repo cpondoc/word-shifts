{
 "cells": [
  {
   "cell_type": "code",
   "execution_count": 1,
   "metadata": {},
   "outputs": [],
   "source": [
    "import torch\n",
    "import torch.nn as nn"
   ]
  },
  {
   "cell_type": "code",
   "execution_count": 17,
   "metadata": {},
   "outputs": [
    {
     "name": "stdout",
     "output_type": "stream",
     "text": [
      "tensor([2.4495, 2.0000])\n",
      "tensor([91.5696,  2.0000])\n"
     ]
    }
   ],
   "source": [
    "x = torch.tensor([[1.0, 1.0, 2.0],[0.0, 0.0, 2.0]])\n",
    "y = torch.tensor([[10.0, 2.0, 91.0],[0.0, 2.0, 0.0]])\n",
    "\n",
    "x_norms = torch.linalg.vector_norm(x, dim = 1)\n",
    "y_norms = torch.linalg.vector_norm(y, dim = 1)\n",
    "print(x_norms)\n",
    "print(y_norms)"
   ]
  },
  {
   "cell_type": "code",
   "execution_count": 6,
   "metadata": {},
   "outputs": [
    {
     "name": "stdout",
     "output_type": "stream",
     "text": [
      "tensor([[2.0000],\n",
      "        [1.0000],\n",
      "        [0.5000]])\n",
      "tensor([[11.0000,  2.0000,  8.0000],\n",
      "        [ 0.4000,  2.0000,  0.3000],\n",
      "        [ 0.4000,  2.0000,  0.3000]])\n",
      "tensor([[22.0000,  4.0000, 16.0000],\n",
      "        [ 0.4000,  2.0000,  0.3000],\n",
      "        [ 0.2000,  1.0000,  0.1500]])\n"
     ]
    }
   ],
   "source": [
    "x = torch.tensor([4.0, 5.0, 6.0])\n",
    "x = torch.reshape(x, (-1,1))\n",
    "\n",
    "y = torch.tensor([2.0, 5.0, 12.0])\n",
    "y = torch.reshape(y, (-1, 1))\n",
    "\n",
    "matrix = torch.tensor([[11.0, 2.0, 8.0],[0.4, 2.0, 0.3],[0.4, 2.0, 0.3]])\n",
    "\n",
    "z = x / y\n",
    "print(z)\n",
    "print(matrix)\n",
    "matrix *= z\n",
    "print(matrix)\n"
   ]
  }
 ],
 "metadata": {
  "kernelspec": {
   "display_name": "Python (pytorch)",
   "language": "python",
   "name": "pytorch"
  },
  "language_info": {
   "codemirror_mode": {
    "name": "ipython",
    "version": 3
   },
   "file_extension": ".py",
   "mimetype": "text/x-python",
   "name": "python",
   "nbconvert_exporter": "python",
   "pygments_lexer": "ipython3",
   "version": "3.9.13"
  },
  "orig_nbformat": 4
 },
 "nbformat": 4,
 "nbformat_minor": 2
}
